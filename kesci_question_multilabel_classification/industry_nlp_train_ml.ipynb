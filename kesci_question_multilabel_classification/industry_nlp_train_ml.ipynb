{
 "metadata": {
  "language_info": {
   "codemirror_mode": {
    "name": "ipython",
    "version": 3
   },
   "file_extension": ".py",
   "mimetype": "text/x-python",
   "name": "python",
   "nbconvert_exporter": "python",
   "pygments_lexer": "ipython3",
   "version": "3.6.9-final"
  },
  "orig_nbformat": 2,
  "kernelspec": {
   "name": "python36964bitd089ad358d3043c7a538c119ed8c116f",
   "display_name": "Python 3.6.9 64-bit"
  }
 },
 "nbformat": 4,
 "nbformat_minor": 2,
 "cells": [
  {
   "cell_type": "markdown",
   "metadata": {},
   "source": [
    "### 风格，场景，行业\n",
    "title\n",
    "content"
   ]
  },
  {
   "cell_type": "code",
   "execution_count": 7,
   "metadata": {},
   "outputs": [],
   "source": [
    "Industries = [ '互联网',\n",
    "                '交通运输',\n",
    "                '体育竞技',\n",
    "                '党政机关',\n",
    "                '医疗保健',\n",
    "                '婚礼婚庆',\n",
    "                '宠物行业',\n",
    "                '房产建筑',\n",
    "                # '房产行业',\n",
    "                '教育行业',\n",
    "                '旅游行业',\n",
    "                '美容保养',\n",
    "                '节日庆典',\n",
    "                '运动健身',\n",
    "                '金融投资',\n",
    "                '餐饮行业']"
   ]
  },
  {
   "cell_type": "code",
   "execution_count": 1,
   "metadata": {},
   "outputs": [],
   "source": []
  },
  {
   "cell_type": "code",
   "execution_count": 2,
   "metadata": {},
   "outputs": [],
   "source": [
    "import pymongo\n",
    "import pandas as pd"
   ]
  },
  {
   "cell_type": "code",
   "execution_count": null,
   "metadata": {},
   "outputs": [],
   "source": []
  },
  {
   "cell_type": "code",
   "execution_count": 3,
   "metadata": {},
   "outputs": [],
   "source": [
    "client = pymongo.MongoClient('192.168.235.223',27017)\n",
    "db  = client['nlp_db']\n",
    "baidu_text = db['baidu_text']"
   ]
  },
  {
   "cell_type": "code",
   "execution_count": 4,
   "metadata": {},
   "outputs": [],
   "source": [
    "baidu_text = db['baidu_text_scene']"
   ]
  },
  {
   "cell_type": "code",
   "execution_count": 5,
   "metadata": {},
   "outputs": [],
   "source": [
    "texts = list(baidu_text.find())\n",
    "contents = []\n",
    "titles = []\n",
    "keywords = []\n",
    "sentences = []\n",
    "counts = []\n",
    "for text in texts:\n",
    "    sentences.append(text[\"title\"]+text[\"content\"])\n",
    "    # titles.append(text[\"title\"])\n",
    "    # contents.append(text[\"content\"])\n",
    "    keywords.append(text[\"keyword\"])\n",
    "    counts.append(1)\n",
    "df = pd.DataFrame({\"Label\": keywords,\n",
    "                    \"Sentence\": sentences,\n",
    "                    \"Count\":counts})"
   ]
  },
  {
   "cell_type": "code",
   "execution_count": 6,
   "metadata": {},
   "outputs": [
    {
     "output_type": "execute_result",
     "data": {
      "text/plain": "  Label                                           Sentence  Count\n0  个人分享  晨会个人分享 - 百度文库2020年7月21日 - 晨会个人分享 (共17篇) 晨会分享主题...      1\n1  个人分享  个人分享怎么写3天前 - 个人工作总结精编分享 个人工作总结结尾大家 都知道,做事要有头有尾...      1\n2  个人分享  个人工作感悟分享_百度文库个人工作感悟分享 1 感悟 1 好的平台很重要 2 持续学习,广泛...      1\n3  个人分享  员工个人分享怎么写_百度知道最佳答案: 员工个人分享 跟大家聊一下我的工作经验,XX年2月2...      1\n4  个人分享                                          个人分享_百度图片      1\n5  个人分享  个人分享 - IT技术宅致力于IT技术分享,关注于web前端技术和编程语言技术的学习研究,其...      1\n6  个人分享  个人分享生活如此多娇! 想给心情放个假,点击这里,周边美食,景点,一网打进!坐地铁,坐公交,...      1\n7  个人分享  个人工作分享文稿 - 简书2018年11月28日 - 大家好,我是市场专员,现在站在这里还是...      1\n8  个人分享  个人工作感悟分享_百度文库个人工作感悟分享 1 感悟 1 好的平台很重要 2 持续学习,广泛...      1\n9  个人分享  员工个人分享怎么写_百度知道最佳答案: 员工个人分享 跟大家聊一下我的工作经验,XX年2月2...      1",
      "text/html": "<div>\n<style scoped>\n    .dataframe tbody tr th:only-of-type {\n        vertical-align: middle;\n    }\n\n    .dataframe tbody tr th {\n        vertical-align: top;\n    }\n\n    .dataframe thead th {\n        text-align: right;\n    }\n</style>\n<table border=\"1\" class=\"dataframe\">\n  <thead>\n    <tr style=\"text-align: right;\">\n      <th></th>\n      <th>Label</th>\n      <th>Sentence</th>\n      <th>Count</th>\n    </tr>\n  </thead>\n  <tbody>\n    <tr>\n      <th>0</th>\n      <td>个人分享</td>\n      <td>晨会个人分享 - 百度文库2020年7月21日 - 晨会个人分享 (共17篇) 晨会分享主题...</td>\n      <td>1</td>\n    </tr>\n    <tr>\n      <th>1</th>\n      <td>个人分享</td>\n      <td>个人分享怎么写3天前 - 个人工作总结精编分享 个人工作总结结尾大家 都知道,做事要有头有尾...</td>\n      <td>1</td>\n    </tr>\n    <tr>\n      <th>2</th>\n      <td>个人分享</td>\n      <td>个人工作感悟分享_百度文库个人工作感悟分享 1 感悟 1 好的平台很重要 2 持续学习,广泛...</td>\n      <td>1</td>\n    </tr>\n    <tr>\n      <th>3</th>\n      <td>个人分享</td>\n      <td>员工个人分享怎么写_百度知道最佳答案: 员工个人分享 跟大家聊一下我的工作经验,XX年2月2...</td>\n      <td>1</td>\n    </tr>\n    <tr>\n      <th>4</th>\n      <td>个人分享</td>\n      <td>个人分享_百度图片</td>\n      <td>1</td>\n    </tr>\n    <tr>\n      <th>5</th>\n      <td>个人分享</td>\n      <td>个人分享 - IT技术宅致力于IT技术分享,关注于web前端技术和编程语言技术的学习研究,其...</td>\n      <td>1</td>\n    </tr>\n    <tr>\n      <th>6</th>\n      <td>个人分享</td>\n      <td>个人分享生活如此多娇! 想给心情放个假,点击这里,周边美食,景点,一网打进!坐地铁,坐公交,...</td>\n      <td>1</td>\n    </tr>\n    <tr>\n      <th>7</th>\n      <td>个人分享</td>\n      <td>个人工作分享文稿 - 简书2018年11月28日 - 大家好,我是市场专员,现在站在这里还是...</td>\n      <td>1</td>\n    </tr>\n    <tr>\n      <th>8</th>\n      <td>个人分享</td>\n      <td>个人工作感悟分享_百度文库个人工作感悟分享 1 感悟 1 好的平台很重要 2 持续学习,广泛...</td>\n      <td>1</td>\n    </tr>\n    <tr>\n      <th>9</th>\n      <td>个人分享</td>\n      <td>员工个人分享怎么写_百度知道最佳答案: 员工个人分享 跟大家聊一下我的工作经验,XX年2月2...</td>\n      <td>1</td>\n    </tr>\n  </tbody>\n</table>\n</div>"
     },
     "metadata": {},
     "execution_count": 6
    }
   ],
   "source": [
    "df[0:10]"
   ]
  },
  {
   "cell_type": "code",
   "execution_count": 7,
   "metadata": {},
   "outputs": [
    {
     "output_type": "execute_result",
     "data": {
      "text/plain": "      Label                                           Sentence  Count\n15906  城市建设  云南城市建设职业学院云南城市建设职业学院是经云南省人民政府批准、国家教育部备案,具有独立颁发...      1\n35246  活动策划  天津活动策划公司-天津年会典礼-开业庆典-舞美演艺公关-天津礼仪...天津文化传媒是一家专业...      1\n35302  活动策划  深圳活动策划公司新产品发布策划_深圳开业周年庆典晚会活动策划...【盛世繁花·文化_深圳活动...      1\n35439  活动策划  活动计划_活动计划书范文2018年10月19日 - 活动计划为大家带来各种主题的活动计划书范...      1\n27551  教育培训  【上海培训网|上海教育培训学校】- 上海赶集网赶集网上海教育培训频道是上海专业的教育培训信息...      1\n45733  计划总结  公司半年度工作总结及计划 - 范文中心以下是本站为大家整理的关于办公室个人上半年工作总结及下...      1\n2173   个人分享  个人技术分享 - Langzi - Never Setter 永不将就个人技术分享 致力于P...      1\n1868   个人分享                        个人分享-范大千-教育-高清完整正版视频在线观看-优酷      1\n49815  颁奖典礼            《2018寻找最美医生颁奖典礼》_哔哩哔哩 (゜-゜)つロ 干杯~-bi...      1\n8385   企业宣传  企业宣传册模板_素材中国sccnn.com2018年7月27日 - 简约企业宣传册设计,企业...      1",
      "text/html": "<div>\n<style scoped>\n    .dataframe tbody tr th:only-of-type {\n        vertical-align: middle;\n    }\n\n    .dataframe tbody tr th {\n        vertical-align: top;\n    }\n\n    .dataframe thead th {\n        text-align: right;\n    }\n</style>\n<table border=\"1\" class=\"dataframe\">\n  <thead>\n    <tr style=\"text-align: right;\">\n      <th></th>\n      <th>Label</th>\n      <th>Sentence</th>\n      <th>Count</th>\n    </tr>\n  </thead>\n  <tbody>\n    <tr>\n      <th>15906</th>\n      <td>城市建设</td>\n      <td>云南城市建设职业学院云南城市建设职业学院是经云南省人民政府批准、国家教育部备案,具有独立颁发...</td>\n      <td>1</td>\n    </tr>\n    <tr>\n      <th>35246</th>\n      <td>活动策划</td>\n      <td>天津活动策划公司-天津年会典礼-开业庆典-舞美演艺公关-天津礼仪...天津文化传媒是一家专业...</td>\n      <td>1</td>\n    </tr>\n    <tr>\n      <th>35302</th>\n      <td>活动策划</td>\n      <td>深圳活动策划公司新产品发布策划_深圳开业周年庆典晚会活动策划...【盛世繁花·文化_深圳活动...</td>\n      <td>1</td>\n    </tr>\n    <tr>\n      <th>35439</th>\n      <td>活动策划</td>\n      <td>活动计划_活动计划书范文2018年10月19日 - 活动计划为大家带来各种主题的活动计划书范...</td>\n      <td>1</td>\n    </tr>\n    <tr>\n      <th>27551</th>\n      <td>教育培训</td>\n      <td>【上海培训网|上海教育培训学校】- 上海赶集网赶集网上海教育培训频道是上海专业的教育培训信息...</td>\n      <td>1</td>\n    </tr>\n    <tr>\n      <th>45733</th>\n      <td>计划总结</td>\n      <td>公司半年度工作总结及计划 - 范文中心以下是本站为大家整理的关于办公室个人上半年工作总结及下...</td>\n      <td>1</td>\n    </tr>\n    <tr>\n      <th>2173</th>\n      <td>个人分享</td>\n      <td>个人技术分享 - Langzi - Never Setter 永不将就个人技术分享 致力于P...</td>\n      <td>1</td>\n    </tr>\n    <tr>\n      <th>1868</th>\n      <td>个人分享</td>\n      <td>个人分享-范大千-教育-高清完整正版视频在线观看-优酷</td>\n      <td>1</td>\n    </tr>\n    <tr>\n      <th>49815</th>\n      <td>颁奖典礼</td>\n      <td>《2018寻找最美医生颁奖典礼》_哔哩哔哩 (゜-゜)つロ 干杯~-bi...</td>\n      <td>1</td>\n    </tr>\n    <tr>\n      <th>8385</th>\n      <td>企业宣传</td>\n      <td>企业宣传册模板_素材中国sccnn.com2018年7月27日 - 简约企业宣传册设计,企业...</td>\n      <td>1</td>\n    </tr>\n  </tbody>\n</table>\n</div>"
     },
     "metadata": {},
     "execution_count": 7
    }
   ],
   "source": [
    "from sklearn import utils\n",
    "df = utils.shuffle(df)\n",
    "df[0:10]"
   ]
  },
  {
   "cell_type": "code",
   "execution_count": 8,
   "metadata": {},
   "outputs": [],
   "source": [
    "train_len = df.shape[0]//4 *3\n",
    "train_df = df[0:train_len]\n",
    "test_df = df[train_len:]"
   ]
  },
  {
   "cell_type": "code",
   "execution_count": 9,
   "metadata": {
    "tags": []
   },
   "outputs": [
    {
     "output_type": "stream",
     "name": "stderr",
     "text": "Building prefix dict from the default dictionary ...\nDumping model to file cache /tmp/jieba.cache\nLoading model cost 2.241 seconds.\nPrefix dict has been built successfully.\n"
    },
    {
     "output_type": "execute_result",
     "data": {
      "text/plain": "15906    云南 城市 建设 职业 学院 云南 城市 建设 职业 学院 是 经 云南省人民政府 批准 、...\n35246    天津 活动 策划 公司 - 天津 年会 典礼 - 开业庆典 - 舞美 演艺 公关 - 天津 ...\n35302    深圳 活动 策划 公司 新 产品 发布 策划 _ 深圳 开业 周年 庆典 晚会 活动 策划 ...\n35439    活动 计划 _ 活动 计划书 范文 2018 年 10 月 19 日   -   活动 计划...\n27551    【 上海 培训网 | 上海 教育 培训 学校 】 -   上海 赶集网 赶集网 上海 教育 ...\nName: CutSentence, dtype: object"
     },
     "metadata": {},
     "execution_count": 9
    }
   ],
   "source": [
    "train_df[\"CutSentence\"] = train_df[\"Sentence\"].apply(chinese_word_cut)\n",
    "test_df[\"CutSentence\"] = test_df[\"Sentence\"].apply(chinese_word_cut)\n",
    "train_df[\"CutSentence\"].head()"
   ]
  },
  {
   "cell_type": "code",
   "execution_count": 15,
   "metadata": {},
   "outputs": [],
   "source": [
    "# df.groupby(by=\"Label\").sum()"
   ]
  },
  {
   "cell_type": "code",
   "execution_count": 19,
   "metadata": {},
   "outputs": [],
   "source": [
    "# 体育\t5000\n",
    "# 娱乐\t5000\n",
    "# 家居\t5000\n",
    "# 房产\t5000\n",
    "# 教育\t5000\n",
    "# 时尚\t5000\n",
    "# 时政\t5000\n",
    "# 游戏\t5000\n",
    "# 科技\t5000\n",
    "# 财经\t5000"
   ]
  },
  {
   "cell_type": "code",
   "execution_count": 4,
   "metadata": {},
   "outputs": [
    {
     "output_type": "execute_result",
     "data": {
      "text/plain": "15"
     },
     "metadata": {},
     "execution_count": 4
    }
   ],
   "source": [
    "len(Industries)"
   ]
  },
  {
   "cell_type": "code",
   "execution_count": 1,
   "metadata": {},
   "outputs": [],
   "source": [
    "train_lines = open(\"./data/cnews/cnews.train.txt\",\"r\").readlines()\n",
    "# for line in lines:\n",
    "#     print(line)"
   ]
  },
  {
   "cell_type": "code",
   "execution_count": 2,
   "metadata": {},
   "outputs": [],
   "source": [
    "# lines[0]\n",
    "test_lines = open(\"./data/cnews/cnews.test.txt\",\"r\").readlines()"
   ]
  },
  {
   "cell_type": "code",
   "execution_count": 3,
   "metadata": {},
   "outputs": [],
   "source": [
    "def process_line(line):\n",
    "    items = line.split(\"\\t\")\n",
    "    label = items[0]\n",
    "    sentence = items[1].strip(\"\\n\")\n",
    "    return label, sentence"
   ]
  },
  {
   "cell_type": "code",
   "execution_count": 4,
   "metadata": {},
   "outputs": [],
   "source": [
    "import pandas as pd\n",
    "def generate_data(lines):\n",
    "    labels = []\n",
    "    sentences = []\n",
    "    counts = []\n",
    "    for line in lines:\n",
    "        label, sentence = process_line(line)\n",
    "        labels.append(label)\n",
    "        sentences.append(sentence)\n",
    "        counts.append(1)\n",
    "    df = pd.DataFrame({\"Label\": labels,\n",
    "                \"Sentence\": sentences,\n",
    "                \"Count\":counts})\n",
    "    return df "
   ]
  },
  {
   "cell_type": "code",
   "execution_count": 5,
   "metadata": {},
   "outputs": [],
   "source": [
    "train_df = generate_data(train_lines)\n",
    "test_df = generate_data(test_lines)"
   ]
  },
  {
   "cell_type": "code",
   "execution_count": 10,
   "metadata": {},
   "outputs": [
    {
     "output_type": "execute_result",
     "data": {
      "text/plain": "       Count\nLabel       \n个人分享    1634\n产品发布    1698\n企业宣传    1721\n企业年会    1617\n医疗通用    1715\n咨询服务    1739\n城市建设    1737\n培训招生    1722\n婚庆爱情    1410\n岗位竞聘    1592\n工作汇报    1467\n总结计划    1424\n教育培训    1319\n毕业答辩    1666\n求职简历    1748\n活动策划    1698\n环保宣传    1426\n生日聚会    1376\n相册图集    1708\n社团活动    1272\n节日庆典    1329\n计划总结    1423\n课程课件    1413\n调研报告    1420\n颁奖典礼    1403\n餐饮美食    1271",
      "text/html": "<div>\n<style scoped>\n    .dataframe tbody tr th:only-of-type {\n        vertical-align: middle;\n    }\n\n    .dataframe tbody tr th {\n        vertical-align: top;\n    }\n\n    .dataframe thead th {\n        text-align: right;\n    }\n</style>\n<table border=\"1\" class=\"dataframe\">\n  <thead>\n    <tr style=\"text-align: right;\">\n      <th></th>\n      <th>Count</th>\n    </tr>\n    <tr>\n      <th>Label</th>\n      <th></th>\n    </tr>\n  </thead>\n  <tbody>\n    <tr>\n      <th>个人分享</th>\n      <td>1634</td>\n    </tr>\n    <tr>\n      <th>产品发布</th>\n      <td>1698</td>\n    </tr>\n    <tr>\n      <th>企业宣传</th>\n      <td>1721</td>\n    </tr>\n    <tr>\n      <th>企业年会</th>\n      <td>1617</td>\n    </tr>\n    <tr>\n      <th>医疗通用</th>\n      <td>1715</td>\n    </tr>\n    <tr>\n      <th>咨询服务</th>\n      <td>1739</td>\n    </tr>\n    <tr>\n      <th>城市建设</th>\n      <td>1737</td>\n    </tr>\n    <tr>\n      <th>培训招生</th>\n      <td>1722</td>\n    </tr>\n    <tr>\n      <th>婚庆爱情</th>\n      <td>1410</td>\n    </tr>\n    <tr>\n      <th>岗位竞聘</th>\n      <td>1592</td>\n    </tr>\n    <tr>\n      <th>工作汇报</th>\n      <td>1467</td>\n    </tr>\n    <tr>\n      <th>总结计划</th>\n      <td>1424</td>\n    </tr>\n    <tr>\n      <th>教育培训</th>\n      <td>1319</td>\n    </tr>\n    <tr>\n      <th>毕业答辩</th>\n      <td>1666</td>\n    </tr>\n    <tr>\n      <th>求职简历</th>\n      <td>1748</td>\n    </tr>\n    <tr>\n      <th>活动策划</th>\n      <td>1698</td>\n    </tr>\n    <tr>\n      <th>环保宣传</th>\n      <td>1426</td>\n    </tr>\n    <tr>\n      <th>生日聚会</th>\n      <td>1376</td>\n    </tr>\n    <tr>\n      <th>相册图集</th>\n      <td>1708</td>\n    </tr>\n    <tr>\n      <th>社团活动</th>\n      <td>1272</td>\n    </tr>\n    <tr>\n      <th>节日庆典</th>\n      <td>1329</td>\n    </tr>\n    <tr>\n      <th>计划总结</th>\n      <td>1423</td>\n    </tr>\n    <tr>\n      <th>课程课件</th>\n      <td>1413</td>\n    </tr>\n    <tr>\n      <th>调研报告</th>\n      <td>1420</td>\n    </tr>\n    <tr>\n      <th>颁奖典礼</th>\n      <td>1403</td>\n    </tr>\n    <tr>\n      <th>餐饮美食</th>\n      <td>1271</td>\n    </tr>\n  </tbody>\n</table>\n</div>"
     },
     "metadata": {},
     "execution_count": 10
    }
   ],
   "source": [
    "train_df.groupby(by=\"Label\").sum()"
   ]
  },
  {
   "cell_type": "code",
   "execution_count": 6,
   "metadata": {
    "tags": []
   },
   "outputs": [
    {
     "output_type": "stream",
     "name": "stderr",
     "text": "Building prefix dict from the default dictionary ...\nLoading model from cache /tmp/jieba.cache\nLoading model cost 0.758 seconds.\nPrefix dict has been built successfully.\n"
    },
    {
     "output_type": "execute_result",
     "data": {
      "text/plain": "0    马晓旭 意外 受伤 让 国奥 警惕   无奈 大雨 格外 青睐 殷家 军 记者 傅亚雨 沈阳...\n1    商瑞华 首战 复仇 心切   中国 玫瑰 要 用 美国 方式 攻克 瑞典 多曼来 了 ， 瑞...\n2    冠军 球队 迎新 欢乐 派对   黄旭获 大奖 张军 赢 下 PK 赛 新浪 体育讯 12 ...\n3    辽足 签约 危机 引 注册 难关   高层 威逼利诱 合同 笑里藏刀 新浪 体育讯 2 月 ...\n4    揭秘 谢亚龙 被 带走 ： 总局 电话 骗局   复制 南杨 轨迹 体坛周报 特约记者 张锐...\nName: CutSentence, dtype: object"
     },
     "metadata": {},
     "execution_count": 6
    }
   ],
   "source": [
    "train_df[\"CutSentence\"] = train_df[\"Sentence\"].apply(chinese_word_cut)\n",
    "train_df[\"CutSentence\"].head()"
   ]
  },
  {
   "cell_type": "code",
   "execution_count": 9,
   "metadata": {},
   "outputs": [],
   "source": [
    "test_df[\"CutSentence\"] = test_df[\"Sentence\"].apply(chinese_word_cut)"
   ]
  },
  {
   "cell_type": "code",
   "execution_count": null,
   "metadata": {},
   "outputs": [],
   "source": []
  },
  {
   "cell_type": "code",
   "execution_count": 11,
   "metadata": {},
   "outputs": [
    {
     "output_type": "execute_result",
     "data": {
      "text/plain": "<39948x23962 sparse matrix of type '<class 'numpy.int64'>'\n\twith 878699 stored elements in Compressed Sparse Row format>"
     },
     "metadata": {},
     "execution_count": 11
    }
   ],
   "source": [
    "# df.groupby(by=\"Label\").sum()\n",
    "from sklearn.feature_extraction.text import  CountVectorizer\n",
    "vect=CountVectorizer()  # 实例化\n",
    "vect.fit_transform(train_df[\"CutSentence\"])"
   ]
  },
  {
   "cell_type": "code",
   "execution_count": 12,
   "metadata": {},
   "outputs": [],
   "source": [
    "from sklearn.naive_bayes import MultinomialNB\n",
    "nb=MultinomialNB()  "
   ]
  },
  {
   "cell_type": "code",
   "execution_count": 13,
   "metadata": {},
   "outputs": [
    {
     "output_type": "execute_result",
     "data": {
      "text/plain": "[('countvectorizer', CountVectorizer()), ('multinomialnb', MultinomialNB())]"
     },
     "metadata": {},
     "execution_count": 13
    }
   ],
   "source": [
    "from sklearn.pipeline import make_pipeline # 导入make_pipeline方法\n",
    "pipe=make_pipeline(vect,nb)\n",
    "pipe.steps #  查看pipeline的步骤（与pipeline相似）"
   ]
  },
  {
   "cell_type": "code",
   "execution_count": 14,
   "metadata": {},
   "outputs": [
    {
     "output_type": "execute_result",
     "data": {
      "text/plain": "Pipeline(steps=[('countvectorizer', CountVectorizer()),\n                ('multinomialnb', MultinomialNB())])"
     },
     "metadata": {},
     "execution_count": 14
    }
   ],
   "source": [
    "pipe.fit(train_df[\"CutSentence\"], train_df[\"Label\"])"
   ]
  },
  {
   "cell_type": "code",
   "execution_count": 15,
   "metadata": {},
   "outputs": [],
   "source": [
    "# model_path = \"/home/ginger/Projects/ND/data_analysis/industry_pipe.joblib\"\n",
    "model_path = \"/home/ginger/Projects/ND/data_analysis/scene_pipe.joblib\""
   ]
  },
  {
   "cell_type": "code",
   "execution_count": 16,
   "metadata": {},
   "outputs": [
    {
     "output_type": "execute_result",
     "data": {
      "text/plain": "['/home/ginger/Projects/ND/data_analysis/scene_pipe.joblib']"
     },
     "metadata": {},
     "execution_count": 16
    }
   ],
   "source": [
    "# 用joblib保存模型\n",
    "import joblib\n",
    "joblib.dump(pipe, model_path)"
   ]
  },
  {
   "cell_type": "code",
   "execution_count": 9,
   "metadata": {},
   "outputs": [
    {
     "output_type": "execute_result",
     "data": {
      "text/plain": "array(['体育竞技'], dtype='<U4')"
     },
     "metadata": {},
     "execution_count": 9
    }
   ],
   "source": [
    "import joblib\n",
    "pp = joblib.load(model_path)\n",
    "res = pp.predict([\"我是 测试\"])\n",
    "res"
   ]
  },
  {
   "cell_type": "code",
   "execution_count": 23,
   "metadata": {},
   "outputs": [
    {
     "output_type": "execute_result",
     "data": {
      "text/plain": "array([[1.18951186e-04, 1.11202227e-04, 4.78266555e-06, 8.77684917e-06,\n        4.63519596e-08, 2.23394967e-05, 2.78270190e-04, 5.09226860e-07,\n        5.82615115e-09, 1.33271530e-06, 5.00576597e-08, 1.94834408e-06,\n        9.99349744e-01, 8.34664477e-05, 1.85748480e-05],\n       [2.17142090e-02, 1.90955978e-01, 2.02626056e-01, 2.07682059e-02,\n        1.85028871e-02, 1.70671938e-02, 1.07218748e-01, 1.86058291e-02,\n        1.85778226e-02, 1.88595683e-02, 5.96885487e-02, 1.89294965e-02,\n        9.06552568e-02, 1.80363180e-02, 1.77793882e-01]])"
     },
     "metadata": {},
     "execution_count": 23
    }
   ],
   "source": [
    "probs = pp.predict_proba([\"马晓旭 意外 受伤 让 国奥 警惕   无奈 大雨 格外 青睐 殷家 军 记者 傅亚雨 沈阳马晓旭 意外 受伤 让 国奥 警惕   无奈 大雨 格外 青睐 殷家 军 记者 傅亚雨 沈阳\",\"我 是 测试\"])\n",
    "probs"
   ]
  },
  {
   "cell_type": "code",
   "execution_count": 27,
   "metadata": {},
   "outputs": [
    {
     "output_type": "execute_result",
     "data": {
      "text/plain": "2"
     },
     "metadata": {},
     "execution_count": 27
    }
   ],
   "source": [
    "import numpy as np\n",
    "np.argmax(probs[1])"
   ]
  },
  {
   "cell_type": "code",
   "execution_count": 17,
   "metadata": {},
   "outputs": [
    {
     "output_type": "error",
     "ename": "NameError",
     "evalue": "name 'pp' is not defined",
     "traceback": [
      "\u001b[0;31m---------------------------------------------------------------------------\u001b[0m",
      "\u001b[0;31mNameError\u001b[0m                                 Traceback (most recent call last)",
      "\u001b[0;32m<ipython-input-17-c4e635e8d351>\u001b[0m in \u001b[0;36m<module>\u001b[0;34m\u001b[0m\n\u001b[0;32m----> 1\u001b[0;31m \u001b[0mpp\u001b[0m\u001b[0;34m.\u001b[0m\u001b[0mclasses_\u001b[0m\u001b[0;34m\u001b[0m\u001b[0;34m\u001b[0m\u001b[0m\n\u001b[0m",
      "\u001b[0;31mNameError\u001b[0m: name 'pp' is not defined"
     ]
    }
   ],
   "source": [
    "pp.classes_"
   ]
  },
  {
   "cell_type": "code",
   "execution_count": 8,
   "metadata": {},
   "outputs": [
    {
     "output_type": "execute_result",
     "data": {
      "text/plain": "'运动健身'"
     },
     "metadata": {},
     "execution_count": 8
    }
   ],
   "source": [
    "res[0]"
   ]
  },
  {
   "cell_type": "code",
   "execution_count": 18,
   "metadata": {},
   "outputs": [],
   "source": [
    "y_pred = pipe.predict(test_df[\"CutSentence\"]) \n",
    "# 对测试集进行预测（其中包括了转化以及预测）"
   ]
  },
  {
   "cell_type": "code",
   "execution_count": 19,
   "metadata": {},
   "outputs": [
    {
     "output_type": "execute_result",
     "data": {
      "text/plain": "0.9653127111645018"
     },
     "metadata": {},
     "execution_count": 19
    }
   ],
   "source": [
    "# 模型对于测试集的准确率\n",
    "from sklearn import  metrics\n",
    "metrics.accuracy_score(test_df[\"Label\"],y_pred)"
   ]
  },
  {
   "cell_type": "code",
   "execution_count": 20,
   "metadata": {
    "tags": []
   },
   "outputs": [
    {
     "output_type": "stream",
     "name": "stdout",
     "text": "precision    recall  f1-score   support\n\n        个人分享       1.00      0.99      0.99       529\n        产品发布       1.00      0.99      0.99       531\n        企业宣传       0.99      0.99      0.99       604\n        企业年会       0.99      0.87      0.92       530\n        医疗通用       0.99      1.00      0.99       522\n        咨询服务       1.00      0.97      0.98       583\n        城市建设       0.99      0.99      0.99       582\n        培训招生       0.97      0.99      0.98       568\n        婚庆爱情       0.99      1.00      0.99       485\n        岗位竞聘       0.99      0.99      0.99       497\n        工作汇报       0.99      0.96      0.97       492\n        总结计划       0.73      0.75      0.74       505\n        教育培训       0.99      0.97      0.98       446\n        毕业答辩       1.00      1.00      1.00       550\n        求职简历       0.99      0.99      0.99       622\n        活动策划       0.89      0.96      0.93       592\n        环保宣传       0.99      0.98      0.98       404\n        生日聚会       1.00      1.00      1.00       490\n        相册图集       1.00      1.00      1.00       581\n        社团活动       0.97      1.00      0.98       445\n        节日庆典       0.97      0.99      0.98       443\n        计划总结       0.73      0.71      0.72       459\n        课程课件       0.98      1.00      0.99       497\n        调研报告       0.99      0.99      0.99       480\n        颁奖典礼       0.98      1.00      0.99       477\n        餐饮美食       1.00      0.98      0.99       405\n\n    accuracy                           0.97     13319\n   macro avg       0.96      0.96      0.96     13319\nweighted avg       0.97      0.97      0.97     13319\n\n"
    }
   ],
   "source": [
    "print(metrics.classification_report(test_df[\"Label\"], y_pred))"
   ]
  },
  {
   "cell_type": "code",
   "execution_count": 21,
   "metadata": {
    "tags": []
   },
   "outputs": [
    {
     "output_type": "stream",
     "name": "stdout",
     "text": "[[524   0   0   0   0   0   0   0   0   0   0   0   0   0   0   0   0   0\n    0   0   0   0   4   0   0   1]\n [  0 526   0   0   0   0   0   0   0   0   0   0   0   0   0   4   0   0\n    1   0   0   0   0   0   0   0]\n [  0   0 597   1   2   0   0   0   0   0   0   0   0   0   0   0   3   0\n    0   0   0   0   1   0   0   0]\n [  0   0   3 462   0   2   0   0   0   0   0   3   0   0   0  59   0   0\n    0   0   0   0   0   0   1   0]\n [  0   0   0   0 520   0   0   0   0   0   0   0   0   0   2   0   0   0\n    0   0   0   0   0   0   0   0]\n [  0   0   0   0   5 566   2   2   0   0   0   0   0   0   3   0   0   0\n    0   0   0   0   0   5   0   0]\n [  0   0   0   0   0   0 579   0   0   0   0   0   0   0   0   0   3   0\n    0   0   0   0   0   0   0   0]\n [  0   0   0   0   0   0   0 565   0   0   0   0   3   0   0   0   0   0\n    0   0   0   0   0   0   0   0]\n [  0   0   0   0   0   0   0   0 483   0   0   0   0   0   0   0   0   0\n    0   0   2   0   0   0   0   0]\n [  0   0   0   0   0   0   0   0   3 493   0   1   0   0   0   0   0   0\n    0   0   0   0   0   0   0   0]\n [  0   0   0   0   0   0   0   0   0   1 472   8   0   1   0   0   0   0\n    0   0   3   0   0   0   7   0]\n [  0   0   0   0   0   0   0   0   0   0   2 380   0   0   0   0   0   0\n    0   0   0 123   0   0   0   0]\n [  0   0   0   0   0   0   0  13   0   0   0   0 433   0   0   0   0   0\n    0   0   0   0   0   0   0   0]\n [  0   0   0   0   0   0   0   0   0   0   0   0   0 548   0   0   0   0\n    0   0   2   0   0   0   0   0]\n [  0   0   0   0   0   0   0   0   0   4   0   0   0   0 618   0   0   0\n    0   0   0   0   0   0   0   0]\n [  0   2   0   6   0   0   0   0   0   0   0   0   0   0   0 571   0   0\n    0  12   1   0   0   0   0   0]\n [  0   0   5   0   0   0   0   0   0   0   0   0   0   0   0   0 396   0\n    0   0   0   0   0   0   3   0]\n [  0   0   0   0   0   0   0   0   0   0   0   0   0   0   0   0   0 488\n    0   0   2   0   0   0   0   0]\n [  1   0   0   0   0   0   0   0   0   0   0   0   0   0   0   0   0   0\n  580   0   0   0   0   0   0   0]\n [  0   0   0   0   0   0   0   0   0   0   0   0   0   0   0   1   0   0\n    0 443   0   0   0   0   1   0]\n [  0   0   0   0   0   0   0   0   0   0   0   0   0   0   0   3   0   0\n    0   0 440   0   0   0   0   0]\n [  0   0   0   0   0   0   0   0   0   0   3 128   0   0   0   0   0   0\n    0   0   2 326   0   0   0   0]\n [  1   0   0   0   0   0   0   0   0   0   0   0   0   0   0   0   0   0\n    0   0   0   0 496   0   0   0]\n [  0   0   0   0   0   0   0   0   3   0   0   0   0   0   0   0   0   0\n    0   0   0   0   0 477   0   0]\n [  0   0   0   0   0   0   0   0   0   0   0   0   0   0   0   0   0   0\n    0   0   0   0   0   0 477   0]\n [  0   0   0   0   0   0   1   1   0   0   0   0   0   0   0   0   0   0\n    0   0   0   0   6   0   0 397]]\n"
    }
   ],
   "source": [
    "from sklearn.metrics import confusion_matrix    # 生成混淆矩阵函数\n",
    "cm = confusion_matrix(test_df[\"Label\"], y_pred)\n",
    "print(cm)"
   ]
  },
  {
   "cell_type": "code",
   "execution_count": 22,
   "metadata": {},
   "outputs": [],
   "source": [
    "import numpy as np\n",
    "import matplotlib.pyplot as plt\n",
    "def plot_confusion_matrix(cm, labels_name, title):\n",
    "    cm = cm.astype('float') / cm.sum(axis=1)[:, np.newaxis]    # 归一化\n",
    "    plt.imshow(cm, interpolation='nearest')    # 在特定的窗口上显示图像\n",
    "    plt.title(title)    # 图像标题\n",
    "    plt.colorbar()\n",
    "    num_local = np.array(range(len(labels_name)))    \n",
    "    plt.xticks(num_local, labels_name, rotation=90)    # 将标签印在x轴坐标上\n",
    "    plt.yticks(num_local, labels_name)    # 将标签印在y轴坐标上\n",
    "    plt.ylabel('True label')    \n",
    "    plt.xlabel('Predicted label')"
   ]
  },
  {
   "cell_type": "code",
   "execution_count": 23,
   "metadata": {},
   "outputs": [
    {
     "output_type": "display_data",
     "data": {
      "text/plain": "<Figure size 432x288 with 2 Axes>",
      "image/svg+xml": "<?xml version=\"1.0\" encoding=\"utf-8\" standalone=\"no\"?>\n<!DOCTYPE svg PUBLIC \"-//W3C//DTD SVG 1.1//EN\"\n  \"http://www.w3.org/Graphics/SVG/1.1/DTD/svg11.dtd\">\n<!-- Created with matplotlib (https://matplotlib.org/) -->\n<svg height=\"273.99875pt\" version=\"1.1\" viewBox=\"0 0 309.39575 273.99875\" width=\"309.39575pt\" xmlns=\"http://www.w3.org/2000/svg\" xmlns:xlink=\"http://www.w3.org/1999/xlink\">\n <metadata>\n  <rdf:RDF xmlns:cc=\"http://creativecommons.org/ns#\" xmlns:dc=\"http://purl.org/dc/elements/1.1/\" xmlns:rdf=\"http://www.w3.org/1999/02/22-rdf-syntax-ns#\">\n   <cc:Work>\n    <dc:type rdf:resource=\"http://purl.org/dc/dcmitype/StillImage\"/>\n    <dc:date>2020-08-18T09:34:26.825192</dc:date>\n    <dc:format>image/svg+xml</dc:format>\n    <dc:creator>\n     <cc:Agent>\n      <dc:title>Matplotlib v3.3.0, https://matplotlib.org/</dc:title>\n     </cc:Agent>\n    </dc:creator>\n   </cc:Work>\n  </rdf:RDF>\n </metadata>\n <defs>\n  <style type=\"text/css\">*{stroke-linecap:butt;stroke-linejoin:round;}</style>\n </defs>\n <g id=\"figure_1\">\n  <g id=\"patch_1\">\n   <path d=\"M 0 273.99875 \nL 309.39575 273.99875 \nL 309.39575 0 \nL 0 0 \nz\n\" style=\"fill:none;\"/>\n  </g>\n  <g id=\"axes_1\">\n   <g id=\"patch_2\">\n    <path d=\"M 34.240625 239.758125 \nL 251.680625 239.758125 \nL 251.680625 22.318125 \nL 34.240625 22.318125 \nz\n\" style=\"fill:#ffffff;\"/>\n   </g>\n   <g clip-path=\"url(#p25324f606d)\">\n    <image height=\"218\" id=\"image35a6c436a9\" transform=\"scale(1 -1)translate(0 -218)\" width=\"218\" x=\"34.240625\" xlink:href=\"data:image/png;base64,\niVBORw0KGgoAAAANSUhEUgAAANoAAADaCAYAAADAHVzbAAAFFElEQVR4nO3dMYtcVRjH4Tu7C8GgH8AZLSRgLQloiFYSGBgCFgloa+PnEmy2SSEsC9vYBDVIDGkVLEJ29wsIMZHZHTvZ6ryTzJ0/d2aepz3DnbPJ/jjFu/fe0d3Rg0UHW2p0cFB+ZjGfr/w9D08fN9f3Vv4GoCQ0CBAaBAgNAoQGAUKDAKFBQD1kgA3Wx4zs5PxZ+Znp+HZz3YkGAUKDAKFBgNAgQGgQIDQIEBoECA0CDKyvGo3a6wv3yG6j47OnzfXp+ObK3+FEgwChQYDQIEBoECA0CBAaBAgNAszRrjIn2zrL3bS5+pys4kSDAKFBgNAgQGgQIDQIEBoECA0ChAYBBtZ9K24e/fvrz8pLvHfYfnvkTin+Pfd/er+5Ph33uZm350SDAKFBgNAgQGgQIDQIEBoECA0CRndHD9ztuIs25GGx1cNNZ5P137TZBycaBAgNAoQGAUKDAKFBgNAgQGgQ4H60XTWAOVk1I+u6zZmTVZxoECA0CBAaBAgNAoQGAUKDAKFBgNAgwMCatanetpl40+ZQONEgQGgQIDQIEBoECA0ChAYBQoMAczTeWnXjZi9zsg150GvFiQYBQoMAoUGA0CBAaBAgNAgQGgT0MkcbHbQvs5jP+/gagh6ePi4/M5vcXv9GhjAnq2Z5XVfu04kGAUKDAKFBgNAgQGgQIDQIEBoECA0CehlYlwPpvf36IpcXfWyFJf3w4ufm+v0PPl/7HkbXrpWfWbx+vfZ91JtYfWjuRIMAoUGA0CBAaBAgNAgQGgQIDQIyD1DdlhlZDzcAJlQPNu26rptN1j8nqwxiRhbiRIMAoUGA0CBAaBAgNAgQGgQIDQKEBgHe+PkmBjCM7rquOzl/1lzv5U2b9MqJBgFCgwChQYDQIEBoECA0CBAaBOzUHG3v+vXm+uXLl6GdtB2++KW5Ph3fCe2EvjjRIEBoECA0CBAaBAgNAoQGAUKDgJ2ao0XmZMVDVse/vlte4psPzcmW9c9XnzbX3/nxt9BO2pxoECA0CBAaBAgNAoQGAUKDAKFBgNAgYKcG1gnfP3/UXP/2xpehnWyJ4g8AEgPp0UGdyWI+b6470SBAaBAgNAgQGgQIDQKEBgFCgwBztKuKmc3R6ZPyEvcmXxSf+PcNNsQQXv5YzciW4USDAKFBgNAgQGgQIDQIEBoECA0ChAYBBtZXHJ/+3lyfTW6FdsL/ij8iGMJAexlONAgQGgQIDQKEBgFCgwChQYDQIGCn5mjHZ0+b67PJzdBOClsyO+rFlvysTjQIEBoECA0ChAYBQoMAoUGA0CBga+Zo1Yys6wY0J6sMYXZUzfK6bhj73BBONAgQGgQIDQKEBgFCgwChQYDQIEBoEDCcgfXefnP58Pmj5vpscqfP3Wy2PobNuzSMLn73usuL1b9i5SsAJaFBgNAgQGgQIDQIEBoECA0CBjNHOyleAjgdm5MtbZdmYH3oYU5WcaJBgNAgQGgQIDQIEBoECA0ChAYB/czRivufvvvjr/IS0/EnvWxl8AbyYNL9j2801y/+rP/PWJ4TDQKEBgFCgwChQYDQIEBoECA0CBAaBPQysD46fdJcvze51cfXbIeB3JRZDqQHMljfFk40CBAaBAgNAoQGAUKDAKFBgNAgoJyjHZ21H2zadeZkG6mak5mR9cqJBgFCgwChQYDQIEBoECA0CBAaBAgNAkavzj9qTiYNo9loA7mB1YkGAUKDAKFBgNAgQGgQIDQIEBoE/AeVnrNKIsPuQwAAAABJRU5ErkJggg==\" y=\"-21.758125\"/>\n   </g>\n   <g id=\"matplotlib.axis_1\">\n    <g id=\"xtick_1\">\n     <g id=\"line2d_1\">\n      <defs>\n       <path d=\"M 0 0 \nL 0 3.5 \n\" id=\"mdd72f903f7\" style=\"stroke:#000000;stroke-width:0.8;\"/>\n      </defs>\n      <g>\n       <use style=\"stroke:#000000;stroke-width:0.8;\" x=\"38.422163\" xlink:href=\"#mdd72f903f7\" y=\"239.758125\"/>\n      </g>\n     </g>\n     <g id=\"text_1\">\n      <!-- 0 -->\n      <g transform=\"translate(41.181538 253.120625)rotate(-90)scale(0.1 -0.1)\">\n       <defs>\n        <path d=\"M 31.78125 66.40625 \nQ 24.171875 66.40625 20.328125 58.90625 \nQ 16.5 51.421875 16.5 36.375 \nQ 16.5 21.390625 20.328125 13.890625 \nQ 24.171875 6.390625 31.78125 6.390625 \nQ 39.453125 6.390625 43.28125 13.890625 \nQ 47.125 21.390625 47.125 36.375 \nQ 47.125 51.421875 43.28125 58.90625 \nQ 39.453125 66.40625 31.78125 66.40625 \nz\nM 31.78125 74.21875 \nQ 44.046875 74.21875 50.515625 64.515625 \nQ 56.984375 54.828125 56.984375 36.375 \nQ 56.984375 17.96875 50.515625 8.265625 \nQ 44.046875 -1.421875 31.78125 -1.421875 \nQ 19.53125 -1.421875 13.0625 8.265625 \nQ 6.59375 17.96875 6.59375 36.375 \nQ 6.59375 54.828125 13.0625 64.515625 \nQ 19.53125 74.21875 31.78125 74.21875 \nz\n\" id=\"DejaVuSans-48\"/>\n       </defs>\n       <use xlink:href=\"#DejaVuSans-48\"/>\n      </g>\n     </g>\n    </g>\n    <g id=\"xtick_2\">\n     <g id=\"line2d_2\">\n      <g>\n       <use style=\"stroke:#000000;stroke-width:0.8;\" x=\"46.78524\" xlink:href=\"#mdd72f903f7\" y=\"239.758125\"/>\n      </g>\n     </g>\n     <g id=\"text_2\">\n      <!-- 1 -->\n      <g transform=\"translate(49.544615 253.120625)rotate(-90)scale(0.1 -0.1)\">\n       <defs>\n        <path d=\"M 12.40625 8.296875 \nL 28.515625 8.296875 \nL 28.515625 63.921875 \nL 10.984375 60.40625 \nL 10.984375 69.390625 \nL 28.421875 72.90625 \nL 38.28125 72.90625 \nL 38.28125 8.296875 \nL 54.390625 8.296875 \nL 54.390625 0 \nL 12.40625 0 \nz\n\" id=\"DejaVuSans-49\"/>\n       </defs>\n       <use xlink:href=\"#DejaVuSans-49\"/>\n      </g>\n     </g>\n    </g>\n    <g id=\"xtick_3\">\n     <g id=\"line2d_3\">\n      <g>\n       <use style=\"stroke:#000000;stroke-width:0.8;\" x=\"55.148317\" xlink:href=\"#mdd72f903f7\" y=\"239.758125\"/>\n      </g>\n     </g>\n     <g id=\"text_3\">\n      <!-- 2 -->\n      <g transform=\"translate(57.907692 253.120625)rotate(-90)scale(0.1 -0.1)\">\n       <defs>\n        <path d=\"M 19.1875 8.296875 \nL 53.609375 8.296875 \nL 53.609375 0 \nL 7.328125 0 \nL 7.328125 8.296875 \nQ 12.9375 14.109375 22.625 23.890625 \nQ 32.328125 33.6875 34.8125 36.53125 \nQ 39.546875 41.84375 41.421875 45.53125 \nQ 43.3125 49.21875 43.3125 52.78125 \nQ 43.3125 58.59375 39.234375 62.25 \nQ 35.15625 65.921875 28.609375 65.921875 \nQ 23.96875 65.921875 18.8125 64.3125 \nQ 13.671875 62.703125 7.8125 59.421875 \nL 7.8125 69.390625 \nQ 13.765625 71.78125 18.9375 73 \nQ 24.125 74.21875 28.421875 74.21875 \nQ 39.75 74.21875 46.484375 68.546875 \nQ 53.21875 62.890625 53.21875 53.421875 \nQ 53.21875 48.921875 51.53125 44.890625 \nQ 49.859375 40.875 45.40625 35.40625 \nQ 44.1875 33.984375 37.640625 27.21875 \nQ 31.109375 20.453125 19.1875 8.296875 \nz\n\" id=\"DejaVuSans-50\"/>\n       </defs>\n       <use xlink:href=\"#DejaVuSans-50\"/>\n      </g>\n     </g>\n    </g>\n    <g id=\"xtick_4\">\n     <g id=\"line2d_4\">\n      <g>\n       <use style=\"stroke:#000000;stroke-width:0.8;\" x=\"63.511394\" xlink:href=\"#mdd72f903f7\" y=\"239.758125\"/>\n      </g>\n     </g>\n     <g id=\"text_4\">\n      <!-- 3 -->\n      <g transform=\"translate(66.270769 253.120625)rotate(-90)scale(0.1 -0.1)\">\n       <defs>\n        <path d=\"M 40.578125 39.3125 \nQ 47.65625 37.796875 51.625 33 \nQ 55.609375 28.21875 55.609375 21.1875 \nQ 55.609375 10.40625 48.1875 4.484375 \nQ 40.765625 -1.421875 27.09375 -1.421875 \nQ 22.515625 -1.421875 17.65625 -0.515625 \nQ 12.796875 0.390625 7.625 2.203125 \nL 7.625 11.71875 \nQ 11.71875 9.328125 16.59375 8.109375 \nQ 21.484375 6.890625 26.8125 6.890625 \nQ 36.078125 6.890625 40.9375 10.546875 \nQ 45.796875 14.203125 45.796875 21.1875 \nQ 45.796875 27.640625 41.28125 31.265625 \nQ 36.765625 34.90625 28.71875 34.90625 \nL 20.21875 34.90625 \nL 20.21875 43.015625 \nL 29.109375 43.015625 \nQ 36.375 43.015625 40.234375 45.921875 \nQ 44.09375 48.828125 44.09375 54.296875 \nQ 44.09375 59.90625 40.109375 62.90625 \nQ 36.140625 65.921875 28.71875 65.921875 \nQ 24.65625 65.921875 20.015625 65.03125 \nQ 15.375 64.15625 9.8125 62.3125 \nL 9.8125 71.09375 \nQ 15.4375 72.65625 20.34375 73.4375 \nQ 25.25 74.21875 29.59375 74.21875 \nQ 40.828125 74.21875 47.359375 69.109375 \nQ 53.90625 64.015625 53.90625 55.328125 \nQ 53.90625 49.265625 50.4375 45.09375 \nQ 46.96875 40.921875 40.578125 39.3125 \nz\n\" id=\"DejaVuSans-51\"/>\n       </defs>\n       <use xlink:href=\"#DejaVuSans-51\"/>\n      </g>\n     </g>\n    </g>\n    <g id=\"xtick_5\">\n     <g id=\"line2d_5\">\n      <g>\n       <use style=\"stroke:#000000;stroke-width:0.8;\" x=\"71.874471\" xlink:href=\"#mdd72f903f7\" y=\"239.758125\"/>\n      </g>\n     </g>\n     <g id=\"text_5\">\n      <!-- 4 -->\n      <g transform=\"translate(74.633846 253.120625)rotate(-90)scale(0.1 -0.1)\">\n       <defs>\n        <path d=\"M 37.796875 64.3125 \nL 12.890625 25.390625 \nL 37.796875 25.390625 \nz\nM 35.203125 72.90625 \nL 47.609375 72.90625 \nL 47.609375 25.390625 \nL 58.015625 25.390625 \nL 58.015625 17.1875 \nL 47.609375 17.1875 \nL 47.609375 0 \nL 37.796875 0 \nL 37.796875 17.1875 \nL 4.890625 17.1875 \nL 4.890625 26.703125 \nz\n\" id=\"DejaVuSans-52\"/>\n       </defs>\n       <use xlink:href=\"#DejaVuSans-52\"/>\n      </g>\n     </g>\n    </g>\n    <g id=\"xtick_6\">\n     <g id=\"line2d_6\">\n      <g>\n       <use style=\"stroke:#000000;stroke-width:0.8;\" x=\"80.237548\" xlink:href=\"#mdd72f903f7\" y=\"239.758125\"/>\n      </g>\n     </g>\n     <g id=\"text_6\">\n      <!-- 5 -->\n      <g transform=\"translate(82.996923 253.120625)rotate(-90)scale(0.1 -0.1)\">\n       <defs>\n        <path d=\"M 10.796875 72.90625 \nL 49.515625 72.90625 \nL 49.515625 64.59375 \nL 19.828125 64.59375 \nL 19.828125 46.734375 \nQ 21.96875 47.46875 24.109375 47.828125 \nQ 26.265625 48.1875 28.421875 48.1875 \nQ 40.625 48.1875 47.75 41.5 \nQ 54.890625 34.8125 54.890625 23.390625 \nQ 54.890625 11.625 47.5625 5.09375 \nQ 40.234375 -1.421875 26.90625 -1.421875 \nQ 22.3125 -1.421875 17.546875 -0.640625 \nQ 12.796875 0.140625 7.71875 1.703125 \nL 7.71875 11.625 \nQ 12.109375 9.234375 16.796875 8.0625 \nQ 21.484375 6.890625 26.703125 6.890625 \nQ 35.15625 6.890625 40.078125 11.328125 \nQ 45.015625 15.765625 45.015625 23.390625 \nQ 45.015625 31 40.078125 35.4375 \nQ 35.15625 39.890625 26.703125 39.890625 \nQ 22.75 39.890625 18.8125 39.015625 \nQ 14.890625 38.140625 10.796875 36.28125 \nz\n\" id=\"DejaVuSans-53\"/>\n       </defs>\n       <use xlink:href=\"#DejaVuSans-53\"/>\n      </g>\n     </g>\n    </g>\n    <g id=\"xtick_7\">\n     <g id=\"line2d_7\">\n      <g>\n       <use style=\"stroke:#000000;stroke-width:0.8;\" x=\"88.600625\" xlink:href=\"#mdd72f903f7\" y=\"239.758125\"/>\n      </g>\n     </g>\n     <g id=\"text_7\">\n      <!-- 6 -->\n      <g transform=\"translate(91.36 253.120625)rotate(-90)scale(0.1 -0.1)\">\n       <defs>\n        <path d=\"M 33.015625 40.375 \nQ 26.375 40.375 22.484375 35.828125 \nQ 18.609375 31.296875 18.609375 23.390625 \nQ 18.609375 15.53125 22.484375 10.953125 \nQ 26.375 6.390625 33.015625 6.390625 \nQ 39.65625 6.390625 43.53125 10.953125 \nQ 47.40625 15.53125 47.40625 23.390625 \nQ 47.40625 31.296875 43.53125 35.828125 \nQ 39.65625 40.375 33.015625 40.375 \nz\nM 52.59375 71.296875 \nL 52.59375 62.3125 \nQ 48.875 64.0625 45.09375 64.984375 \nQ 41.3125 65.921875 37.59375 65.921875 \nQ 27.828125 65.921875 22.671875 59.328125 \nQ 17.53125 52.734375 16.796875 39.40625 \nQ 19.671875 43.65625 24.015625 45.921875 \nQ 28.375 48.1875 33.59375 48.1875 \nQ 44.578125 48.1875 50.953125 41.515625 \nQ 57.328125 34.859375 57.328125 23.390625 \nQ 57.328125 12.15625 50.6875 5.359375 \nQ 44.046875 -1.421875 33.015625 -1.421875 \nQ 20.359375 -1.421875 13.671875 8.265625 \nQ 6.984375 17.96875 6.984375 36.375 \nQ 6.984375 53.65625 15.1875 63.9375 \nQ 23.390625 74.21875 37.203125 74.21875 \nQ 40.921875 74.21875 44.703125 73.484375 \nQ 48.484375 72.75 52.59375 71.296875 \nz\n\" id=\"DejaVuSans-54\"/>\n       </defs>\n       <use xlink:href=\"#DejaVuSans-54\"/>\n      </g>\n     </g>\n    </g>\n    <g id=\"xtick_8\">\n     <g id=\"line2d_8\">\n      <g>\n       <use style=\"stroke:#000000;stroke-width:0.8;\" x=\"96.963702\" xlink:href=\"#mdd72f903f7\" y=\"239.758125\"/>\n      </g>\n     </g>\n     <g id=\"text_8\">\n      <!-- 7 -->\n      <g transform=\"translate(99.723077 253.120625)rotate(-90)scale(0.1 -0.1)\">\n       <defs>\n        <path d=\"M 8.203125 72.90625 \nL 55.078125 72.90625 \nL 55.078125 68.703125 \nL 28.609375 0 \nL 18.3125 0 \nL 43.21875 64.59375 \nL 8.203125 64.59375 \nz\n\" id=\"DejaVuSans-55\"/>\n       </defs>\n       <use xlink:href=\"#DejaVuSans-55\"/>\n      </g>\n     </g>\n    </g>\n    <g id=\"xtick_9\">\n     <g id=\"line2d_9\">\n      <g>\n       <use style=\"stroke:#000000;stroke-width:0.8;\" x=\"105.326779\" xlink:href=\"#mdd72f903f7\" y=\"239.758125\"/>\n      </g>\n     </g>\n     <g id=\"text_9\">\n      <!-- 8 -->\n      <g transform=\"translate(108.086154 253.120625)rotate(-90)scale(0.1 -0.1)\">\n       <defs>\n        <path d=\"M 31.78125 34.625 \nQ 24.75 34.625 20.71875 30.859375 \nQ 16.703125 27.09375 16.703125 20.515625 \nQ 16.703125 13.921875 20.71875 10.15625 \nQ 24.75 6.390625 31.78125 6.390625 \nQ 38.8125 6.390625 42.859375 10.171875 \nQ 46.921875 13.96875 46.921875 20.515625 \nQ 46.921875 27.09375 42.890625 30.859375 \nQ 38.875 34.625 31.78125 34.625 \nz\nM 21.921875 38.8125 \nQ 15.578125 40.375 12.03125 44.71875 \nQ 8.5 49.078125 8.5 55.328125 \nQ 8.5 64.0625 14.71875 69.140625 \nQ 20.953125 74.21875 31.78125 74.21875 \nQ 42.671875 74.21875 48.875 69.140625 \nQ 55.078125 64.0625 55.078125 55.328125 \nQ 55.078125 49.078125 51.53125 44.71875 \nQ 48 40.375 41.703125 38.8125 \nQ 48.828125 37.15625 52.796875 32.3125 \nQ 56.78125 27.484375 56.78125 20.515625 \nQ 56.78125 9.90625 50.3125 4.234375 \nQ 43.84375 -1.421875 31.78125 -1.421875 \nQ 19.734375 -1.421875 13.25 4.234375 \nQ 6.78125 9.90625 6.78125 20.515625 \nQ 6.78125 27.484375 10.78125 32.3125 \nQ 14.796875 37.15625 21.921875 38.8125 \nz\nM 18.3125 54.390625 \nQ 18.3125 48.734375 21.84375 45.5625 \nQ 25.390625 42.390625 31.78125 42.390625 \nQ 38.140625 42.390625 41.71875 45.5625 \nQ 45.3125 48.734375 45.3125 54.390625 \nQ 45.3125 60.0625 41.71875 63.234375 \nQ 38.140625 66.40625 31.78125 66.40625 \nQ 25.390625 66.40625 21.84375 63.234375 \nQ 18.3125 60.0625 18.3125 54.390625 \nz\n\" id=\"DejaVuSans-56\"/>\n       </defs>\n       <use xlink:href=\"#DejaVuSans-56\"/>\n      </g>\n     </g>\n    </g>\n    <g id=\"xtick_10\">\n     <g id=\"line2d_10\">\n      <g>\n       <use style=\"stroke:#000000;stroke-width:0.8;\" x=\"113.689856\" xlink:href=\"#mdd72f903f7\" y=\"239.758125\"/>\n      </g>\n     </g>\n     <g id=\"text_10\">\n      <!-- 9 -->\n      <g transform=\"translate(116.449231 253.120625)rotate(-90)scale(0.1 -0.1)\">\n       <defs>\n        <path d=\"M 10.984375 1.515625 \nL 10.984375 10.5 \nQ 14.703125 8.734375 18.5 7.8125 \nQ 22.3125 6.890625 25.984375 6.890625 \nQ 35.75 6.890625 40.890625 13.453125 \nQ 46.046875 20.015625 46.78125 33.40625 \nQ 43.953125 29.203125 39.59375 26.953125 \nQ 35.25 24.703125 29.984375 24.703125 \nQ 19.046875 24.703125 12.671875 31.3125 \nQ 6.296875 37.9375 6.296875 49.421875 \nQ 6.296875 60.640625 12.9375 67.421875 \nQ 19.578125 74.21875 30.609375 74.21875 \nQ 43.265625 74.21875 49.921875 64.515625 \nQ 56.59375 54.828125 56.59375 36.375 \nQ 56.59375 19.140625 48.40625 8.859375 \nQ 40.234375 -1.421875 26.421875 -1.421875 \nQ 22.703125 -1.421875 18.890625 -0.6875 \nQ 15.09375 0.046875 10.984375 1.515625 \nz\nM 30.609375 32.421875 \nQ 37.25 32.421875 41.125 36.953125 \nQ 45.015625 41.5 45.015625 49.421875 \nQ 45.015625 57.28125 41.125 61.84375 \nQ 37.25 66.40625 30.609375 66.40625 \nQ 23.96875 66.40625 20.09375 61.84375 \nQ 16.21875 57.28125 16.21875 49.421875 \nQ 16.21875 41.5 20.09375 36.953125 \nQ 23.96875 32.421875 30.609375 32.421875 \nz\n\" id=\"DejaVuSans-57\"/>\n       </defs>\n       <use xlink:href=\"#DejaVuSans-57\"/>\n      </g>\n     </g>\n    </g>\n    <g id=\"text_11\">\n     <!-- Predicted label -->\n     <g transform=\"translate(105.808281 264.719062)scale(0.1 -0.1)\">\n      <defs>\n       <path d=\"M 19.671875 64.796875 \nL 19.671875 37.40625 \nL 32.078125 37.40625 \nQ 38.96875 37.40625 42.71875 40.96875 \nQ 46.484375 44.53125 46.484375 51.125 \nQ 46.484375 57.671875 42.71875 61.234375 \nQ 38.96875 64.796875 32.078125 64.796875 \nz\nM 9.8125 72.90625 \nL 32.078125 72.90625 \nQ 44.34375 72.90625 50.609375 67.359375 \nQ 56.890625 61.8125 56.890625 51.125 \nQ 56.890625 40.328125 50.609375 34.8125 \nQ 44.34375 29.296875 32.078125 29.296875 \nL 19.671875 29.296875 \nL 19.671875 0 \nL 9.8125 0 \nz\n\" id=\"DejaVuSans-80\"/>\n       <path d=\"M 41.109375 46.296875 \nQ 39.59375 47.171875 37.8125 47.578125 \nQ 36.03125 48 33.890625 48 \nQ 26.265625 48 22.1875 43.046875 \nQ 18.109375 38.09375 18.109375 28.8125 \nL 18.109375 0 \nL 9.078125 0 \nL 9.078125 54.6875 \nL 18.109375 54.6875 \nL 18.109375 46.1875 \nQ 20.953125 51.171875 25.484375 53.578125 \nQ 30.03125 56 36.53125 56 \nQ 37.453125 56 38.578125 55.875 \nQ 39.703125 55.765625 41.0625 55.515625 \nz\n\" id=\"DejaVuSans-114\"/>\n       <path d=\"M 56.203125 29.59375 \nL 56.203125 25.203125 \nL 14.890625 25.203125 \nQ 15.484375 15.921875 20.484375 11.0625 \nQ 25.484375 6.203125 34.421875 6.203125 \nQ 39.59375 6.203125 44.453125 7.46875 \nQ 49.3125 8.734375 54.109375 11.28125 \nL 54.109375 2.78125 \nQ 49.265625 0.734375 44.1875 -0.34375 \nQ 39.109375 -1.421875 33.890625 -1.421875 \nQ 20.796875 -1.421875 13.15625 6.1875 \nQ 5.515625 13.8125 5.515625 26.8125 \nQ 5.515625 40.234375 12.765625 48.109375 \nQ 20.015625 56 32.328125 56 \nQ 43.359375 56 49.78125 48.890625 \nQ 56.203125 41.796875 56.203125 29.59375 \nz\nM 47.21875 32.234375 \nQ 47.125 39.59375 43.09375 43.984375 \nQ 39.0625 48.390625 32.421875 48.390625 \nQ 24.90625 48.390625 20.390625 44.140625 \nQ 15.875 39.890625 15.1875 32.171875 \nz\n\" id=\"DejaVuSans-101\"/>\n       <path d=\"M 45.40625 46.390625 \nL 45.40625 75.984375 \nL 54.390625 75.984375 \nL 54.390625 0 \nL 45.40625 0 \nL 45.40625 8.203125 \nQ 42.578125 3.328125 38.25 0.953125 \nQ 33.9375 -1.421875 27.875 -1.421875 \nQ 17.96875 -1.421875 11.734375 6.484375 \nQ 5.515625 14.40625 5.515625 27.296875 \nQ 5.515625 40.1875 11.734375 48.09375 \nQ 17.96875 56 27.875 56 \nQ 33.9375 56 38.25 53.625 \nQ 42.578125 51.265625 45.40625 46.390625 \nz\nM 14.796875 27.296875 \nQ 14.796875 17.390625 18.875 11.75 \nQ 22.953125 6.109375 30.078125 6.109375 \nQ 37.203125 6.109375 41.296875 11.75 \nQ 45.40625 17.390625 45.40625 27.296875 \nQ 45.40625 37.203125 41.296875 42.84375 \nQ 37.203125 48.484375 30.078125 48.484375 \nQ 22.953125 48.484375 18.875 42.84375 \nQ 14.796875 37.203125 14.796875 27.296875 \nz\n\" id=\"DejaVuSans-100\"/>\n       <path d=\"M 9.421875 54.6875 \nL 18.40625 54.6875 \nL 18.40625 0 \nL 9.421875 0 \nz\nM 9.421875 75.984375 \nL 18.40625 75.984375 \nL 18.40625 64.59375 \nL 9.421875 64.59375 \nz\n\" id=\"DejaVuSans-105\"/>\n       <path d=\"M 48.78125 52.59375 \nL 48.78125 44.1875 \nQ 44.96875 46.296875 41.140625 47.34375 \nQ 37.3125 48.390625 33.40625 48.390625 \nQ 24.65625 48.390625 19.8125 42.84375 \nQ 14.984375 37.3125 14.984375 27.296875 \nQ 14.984375 17.28125 19.8125 11.734375 \nQ 24.65625 6.203125 33.40625 6.203125 \nQ 37.3125 6.203125 41.140625 7.25 \nQ 44.96875 8.296875 48.78125 10.40625 \nL 48.78125 2.09375 \nQ 45.015625 0.34375 40.984375 -0.53125 \nQ 36.96875 -1.421875 32.421875 -1.421875 \nQ 20.0625 -1.421875 12.78125 6.34375 \nQ 5.515625 14.109375 5.515625 27.296875 \nQ 5.515625 40.671875 12.859375 48.328125 \nQ 20.21875 56 33.015625 56 \nQ 37.15625 56 41.109375 55.140625 \nQ 45.0625 54.296875 48.78125 52.59375 \nz\n\" id=\"DejaVuSans-99\"/>\n       <path d=\"M 18.3125 70.21875 \nL 18.3125 54.6875 \nL 36.8125 54.6875 \nL 36.8125 47.703125 \nL 18.3125 47.703125 \nL 18.3125 18.015625 \nQ 18.3125 11.328125 20.140625 9.421875 \nQ 21.96875 7.515625 27.59375 7.515625 \nL 36.8125 7.515625 \nL 36.8125 0 \nL 27.59375 0 \nQ 17.1875 0 13.234375 3.875 \nQ 9.28125 7.765625 9.28125 18.015625 \nL 9.28125 47.703125 \nL 2.6875 47.703125 \nL 2.6875 54.6875 \nL 9.28125 54.6875 \nL 9.28125 70.21875 \nz\n\" id=\"DejaVuSans-116\"/>\n       <path id=\"DejaVuSans-32\"/>\n       <path d=\"M 9.421875 75.984375 \nL 18.40625 75.984375 \nL 18.40625 0 \nL 9.421875 0 \nz\n\" id=\"DejaVuSans-108\"/>\n       <path d=\"M 34.28125 27.484375 \nQ 23.390625 27.484375 19.1875 25 \nQ 14.984375 22.515625 14.984375 16.5 \nQ 14.984375 11.71875 18.140625 8.90625 \nQ 21.296875 6.109375 26.703125 6.109375 \nQ 34.1875 6.109375 38.703125 11.40625 \nQ 43.21875 16.703125 43.21875 25.484375 \nL 43.21875 27.484375 \nz\nM 52.203125 31.203125 \nL 52.203125 0 \nL 43.21875 0 \nL 43.21875 8.296875 \nQ 40.140625 3.328125 35.546875 0.953125 \nQ 30.953125 -1.421875 24.3125 -1.421875 \nQ 15.921875 -1.421875 10.953125 3.296875 \nQ 6 8.015625 6 15.921875 \nQ 6 25.140625 12.171875 29.828125 \nQ 18.359375 34.515625 30.609375 34.515625 \nL 43.21875 34.515625 \nL 43.21875 35.40625 \nQ 43.21875 41.609375 39.140625 45 \nQ 35.0625 48.390625 27.6875 48.390625 \nQ 23 48.390625 18.546875 47.265625 \nQ 14.109375 46.140625 10.015625 43.890625 \nL 10.015625 52.203125 \nQ 14.9375 54.109375 19.578125 55.046875 \nQ 24.21875 56 28.609375 56 \nQ 40.484375 56 46.34375 49.84375 \nQ 52.203125 43.703125 52.203125 31.203125 \nz\n\" id=\"DejaVuSans-97\"/>\n       <path d=\"M 48.6875 27.296875 \nQ 48.6875 37.203125 44.609375 42.84375 \nQ 40.53125 48.484375 33.40625 48.484375 \nQ 26.265625 48.484375 22.1875 42.84375 \nQ 18.109375 37.203125 18.109375 27.296875 \nQ 18.109375 17.390625 22.1875 11.75 \nQ 26.265625 6.109375 33.40625 6.109375 \nQ 40.53125 6.109375 44.609375 11.75 \nQ 48.6875 17.390625 48.6875 27.296875 \nz\nM 18.109375 46.390625 \nQ 20.953125 51.265625 25.265625 53.625 \nQ 29.59375 56 35.59375 56 \nQ 45.5625 56 51.78125 48.09375 \nQ 58.015625 40.1875 58.015625 27.296875 \nQ 58.015625 14.40625 51.78125 6.484375 \nQ 45.5625 -1.421875 35.59375 -1.421875 \nQ 29.59375 -1.421875 25.265625 0.953125 \nQ 20.953125 3.328125 18.109375 8.203125 \nL 18.109375 0 \nL 9.078125 0 \nL 9.078125 75.984375 \nL 18.109375 75.984375 \nz\n\" id=\"DejaVuSans-98\"/>\n      </defs>\n      <use xlink:href=\"#DejaVuSans-80\"/>\n      <use x=\"58.552734\" xlink:href=\"#DejaVuSans-114\"/>\n      <use x=\"97.416016\" xlink:href=\"#DejaVuSans-101\"/>\n      <use x=\"158.939453\" xlink:href=\"#DejaVuSans-100\"/>\n      <use x=\"222.416016\" xlink:href=\"#DejaVuSans-105\"/>\n      <use x=\"250.199219\" xlink:href=\"#DejaVuSans-99\"/>\n      <use x=\"305.179688\" xlink:href=\"#DejaVuSans-116\"/>\n      <use x=\"344.388672\" xlink:href=\"#DejaVuSans-101\"/>\n      <use x=\"405.912109\" xlink:href=\"#DejaVuSans-100\"/>\n      <use x=\"469.388672\" xlink:href=\"#DejaVuSans-32\"/>\n      <use x=\"501.175781\" xlink:href=\"#DejaVuSans-108\"/>\n      <use x=\"528.958984\" xlink:href=\"#DejaVuSans-97\"/>\n      <use x=\"590.238281\" xlink:href=\"#DejaVuSans-98\"/>\n      <use x=\"653.714844\" xlink:href=\"#DejaVuSans-101\"/>\n      <use x=\"715.238281\" xlink:href=\"#DejaVuSans-108\"/>\n     </g>\n    </g>\n   </g>\n   <g id=\"matplotlib.axis_2\">\n    <g id=\"ytick_1\">\n     <g id=\"line2d_11\">\n      <defs>\n       <path d=\"M 0 0 \nL -3.5 0 \n\" id=\"m694a456b8e\" style=\"stroke:#000000;stroke-width:0.8;\"/>\n      </defs>\n      <g>\n       <use style=\"stroke:#000000;stroke-width:0.8;\" x=\"34.240625\" xlink:href=\"#m694a456b8e\" y=\"26.499663\"/>\n      </g>\n     </g>\n     <g id=\"text_12\">\n      <!-- 0 -->\n      <g transform=\"translate(20.878125 30.298882)scale(0.1 -0.1)\">\n       <use xlink:href=\"#DejaVuSans-48\"/>\n      </g>\n     </g>\n    </g>\n    <g id=\"ytick_2\">\n     <g id=\"line2d_12\">\n      <g>\n       <use style=\"stroke:#000000;stroke-width:0.8;\" x=\"34.240625\" xlink:href=\"#m694a456b8e\" y=\"34.86274\"/>\n      </g>\n     </g>\n     <g id=\"text_13\">\n      <!-- 1 -->\n      <g transform=\"translate(20.878125 38.661959)scale(0.1 -0.1)\">\n       <use xlink:href=\"#DejaVuSans-49\"/>\n      </g>\n     </g>\n    </g>\n    <g id=\"ytick_3\">\n     <g id=\"line2d_13\">\n      <g>\n       <use style=\"stroke:#000000;stroke-width:0.8;\" x=\"34.240625\" xlink:href=\"#m694a456b8e\" y=\"43.225817\"/>\n      </g>\n     </g>\n     <g id=\"text_14\">\n      <!-- 2 -->\n      <g transform=\"translate(20.878125 47.025036)scale(0.1 -0.1)\">\n       <use xlink:href=\"#DejaVuSans-50\"/>\n      </g>\n     </g>\n    </g>\n    <g id=\"ytick_4\">\n     <g id=\"line2d_14\">\n      <g>\n       <use style=\"stroke:#000000;stroke-width:0.8;\" x=\"34.240625\" xlink:href=\"#m694a456b8e\" y=\"51.588894\"/>\n      </g>\n     </g>\n     <g id=\"text_15\">\n      <!-- 3 -->\n      <g transform=\"translate(20.878125 55.388113)scale(0.1 -0.1)\">\n       <use xlink:href=\"#DejaVuSans-51\"/>\n      </g>\n     </g>\n    </g>\n    <g id=\"ytick_5\">\n     <g id=\"line2d_15\">\n      <g>\n       <use style=\"stroke:#000000;stroke-width:0.8;\" x=\"34.240625\" xlink:href=\"#m694a456b8e\" y=\"59.951971\"/>\n      </g>\n     </g>\n     <g id=\"text_16\">\n      <!-- 4 -->\n      <g transform=\"translate(20.878125 63.75119)scale(0.1 -0.1)\">\n       <use xlink:href=\"#DejaVuSans-52\"/>\n      </g>\n     </g>\n    </g>\n    <g id=\"ytick_6\">\n     <g id=\"line2d_16\">\n      <g>\n       <use style=\"stroke:#000000;stroke-width:0.8;\" x=\"34.240625\" xlink:href=\"#m694a456b8e\" y=\"68.315048\"/>\n      </g>\n     </g>\n     <g id=\"text_17\">\n      <!-- 5 -->\n      <g transform=\"translate(20.878125 72.114267)scale(0.1 -0.1)\">\n       <use xlink:href=\"#DejaVuSans-53\"/>\n      </g>\n     </g>\n    </g>\n    <g id=\"ytick_7\">\n     <g id=\"line2d_17\">\n      <g>\n       <use style=\"stroke:#000000;stroke-width:0.8;\" x=\"34.240625\" xlink:href=\"#m694a456b8e\" y=\"76.678125\"/>\n      </g>\n     </g>\n     <g id=\"text_18\">\n      <!-- 6 -->\n      <g transform=\"translate(20.878125 80.477344)scale(0.1 -0.1)\">\n       <use xlink:href=\"#DejaVuSans-54\"/>\n      </g>\n     </g>\n    </g>\n    <g id=\"ytick_8\">\n     <g id=\"line2d_18\">\n      <g>\n       <use style=\"stroke:#000000;stroke-width:0.8;\" x=\"34.240625\" xlink:href=\"#m694a456b8e\" y=\"85.041202\"/>\n      </g>\n     </g>\n     <g id=\"text_19\">\n      <!-- 7 -->\n      <g transform=\"translate(20.878125 88.840421)scale(0.1 -0.1)\">\n       <use xlink:href=\"#DejaVuSans-55\"/>\n      </g>\n     </g>\n    </g>\n    <g id=\"ytick_9\">\n     <g id=\"line2d_19\">\n      <g>\n       <use style=\"stroke:#000000;stroke-width:0.8;\" x=\"34.240625\" xlink:href=\"#m694a456b8e\" y=\"93.404279\"/>\n      </g>\n     </g>\n     <g id=\"text_20\">\n      <!-- 8 -->\n      <g transform=\"translate(20.878125 97.203498)scale(0.1 -0.1)\">\n       <use xlink:href=\"#DejaVuSans-56\"/>\n      </g>\n     </g>\n    </g>\n    <g id=\"ytick_10\">\n     <g id=\"line2d_20\">\n      <g>\n       <use style=\"stroke:#000000;stroke-width:0.8;\" x=\"34.240625\" xlink:href=\"#m694a456b8e\" y=\"101.767356\"/>\n      </g>\n     </g>\n     <g id=\"text_21\">\n      <!-- 9 -->\n      <g transform=\"translate(20.878125 105.566575)scale(0.1 -0.1)\">\n       <use xlink:href=\"#DejaVuSans-57\"/>\n      </g>\n     </g>\n    </g>\n    <g id=\"text_22\">\n     <!-- True label -->\n     <g transform=\"translate(14.798437 155.337344)rotate(-90)scale(0.1 -0.1)\">\n      <defs>\n       <path d=\"M -0.296875 72.90625 \nL 61.375 72.90625 \nL 61.375 64.59375 \nL 35.5 64.59375 \nL 35.5 0 \nL 25.59375 0 \nL 25.59375 64.59375 \nL -0.296875 64.59375 \nz\n\" id=\"DejaVuSans-84\"/>\n       <path d=\"M 8.5 21.578125 \nL 8.5 54.6875 \nL 17.484375 54.6875 \nL 17.484375 21.921875 \nQ 17.484375 14.15625 20.5 10.265625 \nQ 23.53125 6.390625 29.59375 6.390625 \nQ 36.859375 6.390625 41.078125 11.03125 \nQ 45.3125 15.671875 45.3125 23.6875 \nL 45.3125 54.6875 \nL 54.296875 54.6875 \nL 54.296875 0 \nL 45.3125 0 \nL 45.3125 8.40625 \nQ 42.046875 3.421875 37.71875 1 \nQ 33.40625 -1.421875 27.6875 -1.421875 \nQ 18.265625 -1.421875 13.375 4.4375 \nQ 8.5 10.296875 8.5 21.578125 \nz\nM 31.109375 56 \nz\n\" id=\"DejaVuSans-117\"/>\n      </defs>\n      <use xlink:href=\"#DejaVuSans-84\"/>\n      <use x=\"46.333984\" xlink:href=\"#DejaVuSans-114\"/>\n      <use x=\"87.447266\" xlink:href=\"#DejaVuSans-117\"/>\n      <use x=\"150.826172\" xlink:href=\"#DejaVuSans-101\"/>\n      <use x=\"212.349609\" xlink:href=\"#DejaVuSans-32\"/>\n      <use x=\"244.136719\" xlink:href=\"#DejaVuSans-108\"/>\n      <use x=\"271.919922\" xlink:href=\"#DejaVuSans-97\"/>\n      <use x=\"333.199219\" xlink:href=\"#DejaVuSans-98\"/>\n      <use x=\"396.675781\" xlink:href=\"#DejaVuSans-101\"/>\n      <use x=\"458.199219\" xlink:href=\"#DejaVuSans-108\"/>\n     </g>\n    </g>\n   </g>\n   <g id=\"patch_3\">\n    <path d=\"M 34.240625 239.758125 \nL 34.240625 22.318125 \n\" style=\"fill:none;stroke:#000000;stroke-linecap:square;stroke-linejoin:miter;stroke-width:0.8;\"/>\n   </g>\n   <g id=\"patch_4\">\n    <path d=\"M 251.680625 239.758125 \nL 251.680625 22.318125 \n\" style=\"fill:none;stroke:#000000;stroke-linecap:square;stroke-linejoin:miter;stroke-width:0.8;\"/>\n   </g>\n   <g id=\"patch_5\">\n    <path d=\"M 34.240625 239.758125 \nL 251.680625 239.758125 \n\" style=\"fill:none;stroke:#000000;stroke-linecap:square;stroke-linejoin:miter;stroke-width:0.8;\"/>\n   </g>\n   <g id=\"patch_6\">\n    <path d=\"M 34.240625 22.318125 \nL 251.680625 22.318125 \n\" style=\"fill:none;stroke:#000000;stroke-linecap:square;stroke-linejoin:miter;stroke-width:0.8;\"/>\n   </g>\n   <g id=\"text_23\">\n    <!-- HAR Confusion Matrix -->\n    <g transform=\"translate(77.62625 16.318125)scale(0.12 -0.12)\">\n     <defs>\n      <path d=\"M 9.8125 72.90625 \nL 19.671875 72.90625 \nL 19.671875 43.015625 \nL 55.515625 43.015625 \nL 55.515625 72.90625 \nL 65.375 72.90625 \nL 65.375 0 \nL 55.515625 0 \nL 55.515625 34.71875 \nL 19.671875 34.71875 \nL 19.671875 0 \nL 9.8125 0 \nz\n\" id=\"DejaVuSans-72\"/>\n      <path d=\"M 34.1875 63.1875 \nL 20.796875 26.90625 \nL 47.609375 26.90625 \nz\nM 28.609375 72.90625 \nL 39.796875 72.90625 \nL 67.578125 0 \nL 57.328125 0 \nL 50.6875 18.703125 \nL 17.828125 18.703125 \nL 11.1875 0 \nL 0.78125 0 \nz\n\" id=\"DejaVuSans-65\"/>\n      <path d=\"M 44.390625 34.1875 \nQ 47.5625 33.109375 50.5625 29.59375 \nQ 53.5625 26.078125 56.59375 19.921875 \nL 66.609375 0 \nL 56 0 \nL 46.6875 18.703125 \nQ 43.0625 26.03125 39.671875 28.421875 \nQ 36.28125 30.8125 30.421875 30.8125 \nL 19.671875 30.8125 \nL 19.671875 0 \nL 9.8125 0 \nL 9.8125 72.90625 \nL 32.078125 72.90625 \nQ 44.578125 72.90625 50.734375 67.671875 \nQ 56.890625 62.453125 56.890625 51.90625 \nQ 56.890625 45.015625 53.6875 40.46875 \nQ 50.484375 35.9375 44.390625 34.1875 \nz\nM 19.671875 64.796875 \nL 19.671875 38.921875 \nL 32.078125 38.921875 \nQ 39.203125 38.921875 42.84375 42.21875 \nQ 46.484375 45.515625 46.484375 51.90625 \nQ 46.484375 58.296875 42.84375 61.546875 \nQ 39.203125 64.796875 32.078125 64.796875 \nz\n\" id=\"DejaVuSans-82\"/>\n      <path d=\"M 64.40625 67.28125 \nL 64.40625 56.890625 \nQ 59.421875 61.53125 53.78125 63.8125 \nQ 48.140625 66.109375 41.796875 66.109375 \nQ 29.296875 66.109375 22.65625 58.46875 \nQ 16.015625 50.828125 16.015625 36.375 \nQ 16.015625 21.96875 22.65625 14.328125 \nQ 29.296875 6.6875 41.796875 6.6875 \nQ 48.140625 6.6875 53.78125 8.984375 \nQ 59.421875 11.28125 64.40625 15.921875 \nL 64.40625 5.609375 \nQ 59.234375 2.09375 53.4375 0.328125 \nQ 47.65625 -1.421875 41.21875 -1.421875 \nQ 24.65625 -1.421875 15.125 8.703125 \nQ 5.609375 18.84375 5.609375 36.375 \nQ 5.609375 53.953125 15.125 64.078125 \nQ 24.65625 74.21875 41.21875 74.21875 \nQ 47.75 74.21875 53.53125 72.484375 \nQ 59.328125 70.75 64.40625 67.28125 \nz\n\" id=\"DejaVuSans-67\"/>\n      <path d=\"M 30.609375 48.390625 \nQ 23.390625 48.390625 19.1875 42.75 \nQ 14.984375 37.109375 14.984375 27.296875 \nQ 14.984375 17.484375 19.15625 11.84375 \nQ 23.34375 6.203125 30.609375 6.203125 \nQ 37.796875 6.203125 41.984375 11.859375 \nQ 46.1875 17.53125 46.1875 27.296875 \nQ 46.1875 37.015625 41.984375 42.703125 \nQ 37.796875 48.390625 30.609375 48.390625 \nz\nM 30.609375 56 \nQ 42.328125 56 49.015625 48.375 \nQ 55.71875 40.765625 55.71875 27.296875 \nQ 55.71875 13.875 49.015625 6.21875 \nQ 42.328125 -1.421875 30.609375 -1.421875 \nQ 18.84375 -1.421875 12.171875 6.21875 \nQ 5.515625 13.875 5.515625 27.296875 \nQ 5.515625 40.765625 12.171875 48.375 \nQ 18.84375 56 30.609375 56 \nz\n\" id=\"DejaVuSans-111\"/>\n      <path d=\"M 54.890625 33.015625 \nL 54.890625 0 \nL 45.90625 0 \nL 45.90625 32.71875 \nQ 45.90625 40.484375 42.875 44.328125 \nQ 39.84375 48.1875 33.796875 48.1875 \nQ 26.515625 48.1875 22.3125 43.546875 \nQ 18.109375 38.921875 18.109375 30.90625 \nL 18.109375 0 \nL 9.078125 0 \nL 9.078125 54.6875 \nL 18.109375 54.6875 \nL 18.109375 46.1875 \nQ 21.34375 51.125 25.703125 53.5625 \nQ 30.078125 56 35.796875 56 \nQ 45.21875 56 50.046875 50.171875 \nQ 54.890625 44.34375 54.890625 33.015625 \nz\n\" id=\"DejaVuSans-110\"/>\n      <path d=\"M 37.109375 75.984375 \nL 37.109375 68.5 \nL 28.515625 68.5 \nQ 23.6875 68.5 21.796875 66.546875 \nQ 19.921875 64.59375 19.921875 59.515625 \nL 19.921875 54.6875 \nL 34.71875 54.6875 \nL 34.71875 47.703125 \nL 19.921875 47.703125 \nL 19.921875 0 \nL 10.890625 0 \nL 10.890625 47.703125 \nL 2.296875 47.703125 \nL 2.296875 54.6875 \nL 10.890625 54.6875 \nL 10.890625 58.5 \nQ 10.890625 67.625 15.140625 71.796875 \nQ 19.390625 75.984375 28.609375 75.984375 \nz\n\" id=\"DejaVuSans-102\"/>\n      <path d=\"M 44.28125 53.078125 \nL 44.28125 44.578125 \nQ 40.484375 46.53125 36.375 47.5 \nQ 32.28125 48.484375 27.875 48.484375 \nQ 21.1875 48.484375 17.84375 46.4375 \nQ 14.5 44.390625 14.5 40.28125 \nQ 14.5 37.15625 16.890625 35.375 \nQ 19.28125 33.59375 26.515625 31.984375 \nL 29.59375 31.296875 \nQ 39.15625 29.25 43.1875 25.515625 \nQ 47.21875 21.78125 47.21875 15.09375 \nQ 47.21875 7.46875 41.1875 3.015625 \nQ 35.15625 -1.421875 24.609375 -1.421875 \nQ 20.21875 -1.421875 15.453125 -0.5625 \nQ 10.6875 0.296875 5.421875 2 \nL 5.421875 11.28125 \nQ 10.40625 8.6875 15.234375 7.390625 \nQ 20.0625 6.109375 24.8125 6.109375 \nQ 31.15625 6.109375 34.5625 8.28125 \nQ 37.984375 10.453125 37.984375 14.40625 \nQ 37.984375 18.0625 35.515625 20.015625 \nQ 33.0625 21.96875 24.703125 23.78125 \nL 21.578125 24.515625 \nQ 13.234375 26.265625 9.515625 29.90625 \nQ 5.8125 33.546875 5.8125 39.890625 \nQ 5.8125 47.609375 11.28125 51.796875 \nQ 16.75 56 26.8125 56 \nQ 31.78125 56 36.171875 55.265625 \nQ 40.578125 54.546875 44.28125 53.078125 \nz\n\" id=\"DejaVuSans-115\"/>\n      <path d=\"M 9.8125 72.90625 \nL 24.515625 72.90625 \nL 43.109375 23.296875 \nL 61.8125 72.90625 \nL 76.515625 72.90625 \nL 76.515625 0 \nL 66.890625 0 \nL 66.890625 64.015625 \nL 48.09375 14.015625 \nL 38.1875 14.015625 \nL 19.390625 64.015625 \nL 19.390625 0 \nL 9.8125 0 \nz\n\" id=\"DejaVuSans-77\"/>\n      <path d=\"M 54.890625 54.6875 \nL 35.109375 28.078125 \nL 55.90625 0 \nL 45.3125 0 \nL 29.390625 21.484375 \nL 13.484375 0 \nL 2.875 0 \nL 24.125 28.609375 \nL 4.6875 54.6875 \nL 15.28125 54.6875 \nL 29.78125 35.203125 \nL 44.28125 54.6875 \nz\n\" id=\"DejaVuSans-120\"/>\n     </defs>\n     <use xlink:href=\"#DejaVuSans-72\"/>\n     <use x=\"75.195312\" xlink:href=\"#DejaVuSans-65\"/>\n     <use x=\"143.603516\" xlink:href=\"#DejaVuSans-82\"/>\n     <use x=\"213.085938\" xlink:href=\"#DejaVuSans-32\"/>\n     <use x=\"244.873047\" xlink:href=\"#DejaVuSans-67\"/>\n     <use x=\"314.697266\" xlink:href=\"#DejaVuSans-111\"/>\n     <use x=\"375.878906\" xlink:href=\"#DejaVuSans-110\"/>\n     <use x=\"439.257812\" xlink:href=\"#DejaVuSans-102\"/>\n     <use x=\"474.462891\" xlink:href=\"#DejaVuSans-117\"/>\n     <use x=\"537.841797\" xlink:href=\"#DejaVuSans-115\"/>\n     <use x=\"589.941406\" xlink:href=\"#DejaVuSans-105\"/>\n     <use x=\"617.724609\" xlink:href=\"#DejaVuSans-111\"/>\n     <use x=\"678.90625\" xlink:href=\"#DejaVuSans-110\"/>\n     <use x=\"742.285156\" xlink:href=\"#DejaVuSans-32\"/>\n     <use x=\"774.072266\" xlink:href=\"#DejaVuSans-77\"/>\n     <use x=\"860.351562\" xlink:href=\"#DejaVuSans-97\"/>\n     <use x=\"921.630859\" xlink:href=\"#DejaVuSans-116\"/>\n     <use x=\"960.839844\" xlink:href=\"#DejaVuSans-114\"/>\n     <use x=\"1001.953125\" xlink:href=\"#DejaVuSans-105\"/>\n     <use x=\"1029.736328\" xlink:href=\"#DejaVuSans-120\"/>\n    </g>\n   </g>\n  </g>\n  <g id=\"axes_2\">\n   <g id=\"patch_7\">\n    <path clip-path=\"url(#p445820c5e2)\" d=\"M 268.420625 239.758125 \nL 268.420625 238.90875 \nL 268.420625 23.1675 \nL 268.420625 22.318125 \nL 279.292625 22.318125 \nL 279.292625 23.1675 \nL 279.292625 238.90875 \nL 279.292625 239.758125 \nz\n\" style=\"fill:#ffffff;stroke:#ffffff;stroke-linejoin:miter;stroke-width:0.01;\"/>\n   </g>\n   <image height=\"218\" id=\"image2991b63c07\" transform=\"scale(1 -1)translate(0 -218)\" width=\"11\" x=\"268\" xlink:href=\"data:image/png;base64,\niVBORw0KGgoAAAANSUhEUgAAAAsAAADaCAYAAABwzrisAAABaklEQVR4nNXay20DMQwEUFHSpjKXkP4rSbJpQe8wAOUzMZifuGvZ9anvdxx+dq11Ojv2qHk+XLNCyMOQYdjcmMJZaJDAIutWjnMMOTdsbrSoaBM3XuvG8WxS4EsVbcI55rO5cc6CQ4khE2c5sMFQrEiCbAIB2brRg0YTNxA5xfk9f+u5VKAtGUHu0g1B7lH+nBs3xh1040LOQWR7HAtyD4G58veIG+RdugqSm//4ZujKbuwhAoWGtS7phiQYXAWpIuXcgPubpEAbHiQwxblibsArP4YyxY2kQKFxDjz2nH9CQ5CJc3D4eHbsJW5MOlY9rCPkpBspzjS8YwJznINulLhhw8I56DNwfnq4scwNEWjlzwmMIVvcv0IDkHMJBrshblCCFAqtglzcWFFKkKyjLQrIX/UjyKlQrM8mkE53an3hgU09Jp7cA+h4dIy96M0cvi8ZjUf+koE0YHjJ71YTLmX2U/B/JEGm66x/VzCAaM69yhMAAAAASUVORK5CYII=\" y=\"-21\"/>\n   <g id=\"matplotlib.axis_3\"/>\n   <g id=\"matplotlib.axis_4\">\n    <g id=\"ytick_11\">\n     <g id=\"line2d_21\">\n      <defs>\n       <path d=\"M 0 0 \nL 3.5 0 \n\" id=\"m189fc15bbd\" style=\"stroke:#000000;stroke-width:0.8;\"/>\n      </defs>\n      <g>\n       <use style=\"stroke:#000000;stroke-width:0.8;\" x=\"279.292625\" xlink:href=\"#m189fc15bbd\" y=\"239.758125\"/>\n      </g>\n     </g>\n     <g id=\"text_24\">\n      <!-- 0.0 -->\n      <g transform=\"translate(286.292625 243.557344)scale(0.1 -0.1)\">\n       <defs>\n        <path d=\"M 10.6875 12.40625 \nL 21 12.40625 \nL 21 0 \nL 10.6875 0 \nz\n\" id=\"DejaVuSans-46\"/>\n       </defs>\n       <use xlink:href=\"#DejaVuSans-48\"/>\n       <use x=\"63.623047\" xlink:href=\"#DejaVuSans-46\"/>\n       <use x=\"95.410156\" xlink:href=\"#DejaVuSans-48\"/>\n      </g>\n     </g>\n    </g>\n    <g id=\"ytick_12\">\n     <g id=\"line2d_22\">\n      <g>\n       <use style=\"stroke:#000000;stroke-width:0.8;\" x=\"279.292625\" xlink:href=\"#m189fc15bbd\" y=\"196.270125\"/>\n      </g>\n     </g>\n     <g id=\"text_25\">\n      <!-- 0.2 -->\n      <g transform=\"translate(286.292625 200.069344)scale(0.1 -0.1)\">\n       <use xlink:href=\"#DejaVuSans-48\"/>\n       <use x=\"63.623047\" xlink:href=\"#DejaVuSans-46\"/>\n       <use x=\"95.410156\" xlink:href=\"#DejaVuSans-50\"/>\n      </g>\n     </g>\n    </g>\n    <g id=\"ytick_13\">\n     <g id=\"line2d_23\">\n      <g>\n       <use style=\"stroke:#000000;stroke-width:0.8;\" x=\"279.292625\" xlink:href=\"#m189fc15bbd\" y=\"152.782125\"/>\n      </g>\n     </g>\n     <g id=\"text_26\">\n      <!-- 0.4 -->\n      <g transform=\"translate(286.292625 156.581344)scale(0.1 -0.1)\">\n       <use xlink:href=\"#DejaVuSans-48\"/>\n       <use x=\"63.623047\" xlink:href=\"#DejaVuSans-46\"/>\n       <use x=\"95.410156\" xlink:href=\"#DejaVuSans-52\"/>\n      </g>\n     </g>\n    </g>\n    <g id=\"ytick_14\">\n     <g id=\"line2d_24\">\n      <g>\n       <use style=\"stroke:#000000;stroke-width:0.8;\" x=\"279.292625\" xlink:href=\"#m189fc15bbd\" y=\"109.294125\"/>\n      </g>\n     </g>\n     <g id=\"text_27\">\n      <!-- 0.6 -->\n      <g transform=\"translate(286.292625 113.093344)scale(0.1 -0.1)\">\n       <use xlink:href=\"#DejaVuSans-48\"/>\n       <use x=\"63.623047\" xlink:href=\"#DejaVuSans-46\"/>\n       <use x=\"95.410156\" xlink:href=\"#DejaVuSans-54\"/>\n      </g>\n     </g>\n    </g>\n    <g id=\"ytick_15\">\n     <g id=\"line2d_25\">\n      <g>\n       <use style=\"stroke:#000000;stroke-width:0.8;\" x=\"279.292625\" xlink:href=\"#m189fc15bbd\" y=\"65.806125\"/>\n      </g>\n     </g>\n     <g id=\"text_28\">\n      <!-- 0.8 -->\n      <g transform=\"translate(286.292625 69.605344)scale(0.1 -0.1)\">\n       <use xlink:href=\"#DejaVuSans-48\"/>\n       <use x=\"63.623047\" xlink:href=\"#DejaVuSans-46\"/>\n       <use x=\"95.410156\" xlink:href=\"#DejaVuSans-56\"/>\n      </g>\n     </g>\n    </g>\n    <g id=\"ytick_16\">\n     <g id=\"line2d_26\">\n      <g>\n       <use style=\"stroke:#000000;stroke-width:0.8;\" x=\"279.292625\" xlink:href=\"#m189fc15bbd\" y=\"22.318125\"/>\n      </g>\n     </g>\n     <g id=\"text_29\">\n      <!-- 1.0 -->\n      <g transform=\"translate(286.292625 26.117344)scale(0.1 -0.1)\">\n       <use xlink:href=\"#DejaVuSans-49\"/>\n       <use x=\"63.623047\" xlink:href=\"#DejaVuSans-46\"/>\n       <use x=\"95.410156\" xlink:href=\"#DejaVuSans-48\"/>\n      </g>\n     </g>\n    </g>\n   </g>\n   <g id=\"patch_8\">\n    <path d=\"M 268.420625 239.758125 \nL 268.420625 238.90875 \nL 268.420625 23.1675 \nL 268.420625 22.318125 \nL 279.292625 22.318125 \nL 279.292625 23.1675 \nL 279.292625 238.90875 \nL 279.292625 239.758125 \nz\n\" style=\"fill:none;stroke:#000000;stroke-linejoin:miter;stroke-width:0.8;\"/>\n   </g>\n  </g>\n </g>\n <defs>\n  <clipPath id=\"p25324f606d\">\n   <rect height=\"217.44\" width=\"217.44\" x=\"34.240625\" y=\"22.318125\"/>\n  </clipPath>\n  <clipPath id=\"p445820c5e2\">\n   <rect height=\"217.44\" width=\"10.872\" x=\"268.420625\" y=\"22.318125\"/>\n  </clipPath>\n </defs>\n</svg>\n",
      "image/png": "[encoded data removed]"
     },
     "metadata": {
      "needs_background": "light"
     }
    }
   ],
   "source": [
    "labels_name = [\"0\",\"1\",\"2\",\"3\",\"4\",\"5\",\"6\",\"7\",\"8\",\"9\"]\n",
    "plot_confusion_matrix(cm, labels_name, \"HAR Confusion Matrix\")\n",
    "# plt.savefig('/HAR_cm.png', format='png')\n",
    "plt.show()"
   ]
  },
  {
   "cell_type": "code",
   "execution_count": 1,
   "metadata": {},
   "outputs": [],
   "source": [
    "from sklearn.datasets import fetch_20newsgroups\n",
    "\n",
    "# categories = ['alt.atheism', 'soc.religion.christian',\n",
    "#               'comp.graphics', 'sci.med']\n",
    "# twenty_train = fetch_20newsgroups(subset='train',\n",
    "#     categories=categories, shuffle=True, random_state=42)\n",
    "# twenty_test = fetch_20newsgroups(subset='test',\n",
    "#     categories=categories, shuffle=True, random_state=42)"
   ]
  },
  {
   "cell_type": "code",
   "execution_count": null,
   "metadata": {},
   "outputs": [],
   "source": []
  },
  {
   "cell_type": "code",
   "execution_count": 28,
   "metadata": {
    "tags": []
   },
   "outputs": [
    {
     "output_type": "stream",
     "name": "stdout",
     "text": "/tmp/03cb9618-b27c-4378-a116-f1d74054fdb0\n"
    }
   ],
   "source": [
    "!pwd"
   ]
  },
  {
   "cell_type": "code",
   "execution_count": 25,
   "metadata": {},
   "outputs": [],
   "source": [
    "from enum import Enum\n",
    "class LabelType(Enum):\n",
    "    industry = \"01\"\n",
    "    scene = \"02\"\n",
    "    style = \"03\""
   ]
  },
  {
   "cell_type": "code",
   "execution_count": 28,
   "metadata": {},
   "outputs": [
    {
     "output_type": "execute_result",
     "data": {
      "text/plain": "'01'"
     },
     "metadata": {},
     "execution_count": 28
    }
   ],
   "source": [
    "LabelType.industry.value"
   ]
  },
  {
   "cell_type": "code",
   "execution_count": null,
   "metadata": {},
   "outputs": [],
   "source": []
  }
 ]
}