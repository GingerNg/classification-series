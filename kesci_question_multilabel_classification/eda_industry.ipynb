{
 "metadata": {
  "language_info": {
   "codemirror_mode": {
    "name": "ipython",
    "version": 3
   },
   "file_extension": ".py",
   "mimetype": "text/x-python",
   "name": "python",
   "nbconvert_exporter": "python",
   "pygments_lexer": "ipython3",
   "version": "3.6.9-final"
  },
  "orig_nbformat": 2,
  "kernelspec": {
   "name": "Python 3.6.9 64-bit",
   "display_name": "Python 3.6.9 64-bit",
   "metadata": {
    "interpreter": {
     "hash": "31f2aee4e71d21fbe5cf8b01ff0e069b9275f58929596ceb00d14d90e3e16cd6"
    }
   }
  }
 },
 "nbformat": 4,
 "nbformat_minor": 2,
 "cells": [
  {
   "cell_type": "code",
   "execution_count": 2,
   "metadata": {},
   "outputs": [],
   "source": [
    "import cfg"
   ]
  },
  {
   "cell_type": "code",
   "execution_count": 7,
   "metadata": {},
   "outputs": [
    {
     "output_type": "execute_result",
     "data": {
      "text/plain": [
       "'/home/wujinjie/kesci_question_multilabel_classification'"
      ]
     },
     "metadata": {},
     "execution_count": 7
    }
   ],
   "source": [
    "cfg.proj_path"
   ]
  },
  {
   "cell_type": "code",
   "execution_count": 4,
   "metadata": {},
   "outputs": [],
   "source": [
    "import pandas as pd\n",
    "data_df=pd.read_csv(os.path.join(cfg.proj_path, \"data/raw_data/baidu/nlp_db.baidu_text.csv\"))"
   ]
  },
  {
   "cell_type": "code",
   "execution_count": 5,
   "metadata": {},
   "outputs": [],
   "source": [
    "data_df = data_df[data_df.keyword==\"金融投资\"]"
   ]
  },
  {
   "cell_type": "code",
   "execution_count": 6,
   "metadata": {},
   "outputs": [
    {
     "output_type": "execute_result",
     "data": {
      "text/plain": [
       "                                    _id  \\\n",
       "0      2dde4f86749378cb92f8fba4a2d00372   \n",
       "1      6f0a3346c3185c163fc1471159f86106   \n",
       "2      249312c693aa729a32cff9f5c0b7c551   \n",
       "3      c561d39f4bbf71828290e4e09f2b84ae   \n",
       "4      16a561b427f529573879f4894a27fc3a   \n",
       "...                                 ...   \n",
       "32992  2d67fba187d8037baa3e03fc6acda740   \n",
       "32993  a3e5153038893fe3884a0083db00b747   \n",
       "32994  2c68f4ad40a1756315706cbe2824d740   \n",
       "33996  ab110cfb7eab589d4af801863a89289a   \n",
       "33997  9bc78da81086ccc08cfc7a72e066c9b5   \n",
       "\n",
       "                                                 content keyword  \\\n",
       "0      2019年9月12日 - 金融投资是什么?提到金融投资,相信一般人会比较陌生,不如什么理财、...    金融投资   \n",
       "1                                                    NaN    金融投资   \n",
       "2      金锐祥股票网提供全面的股票、外汇、期货投资分析,教您投资入门技巧,掌握投资知识,帮助小白入门...    金融投资   \n",
       "3      世界经理人金融投资频道提供投资理财、财富管理、海外投资、风险投资等资讯,让企业和投资者实时掌...    金融投资   \n",
       "4      2019年9月23日 - 市场经济的不断发展促进了金融投资行为的不断增加,那你关于金融投资你...    金融投资   \n",
       "...                                                  ...     ...   \n",
       "32992  2018年8月30日 - 对于保守型投资者来说,只能接受保本保息的产品,但是目前理财市场上真...    金融投资   \n",
       "32993  2020年7月21日 - 来源:金融投资网 诺亚财富在投资方面一直倡导组合型投资构建稳固的投...    金融投资   \n",
       "32994  2019年5月24日 - 金融界 05-2416:38 投资行业与其他行业不同,一般行业用心...    金融投资   \n",
       "33996  2020年7月17日 - 来源:金融投资报 作者:刘柯 中芯国际(港股00981)上市,引发...    金融投资   \n",
       "33997  2018年8月9日 - 来源:金融投资报 8月8日,川化股份(000155)挑在这个坊间认为...    金融投资   \n",
       "\n",
       "                              parent_id                   timestamp  \\\n",
       "0      45a7135f8ed3120632ee896922bb1bf7  2020-08-12 14:01:25.284368   \n",
       "1      45a7135f8ed3120632ee896922bb1bf7  2020-08-12 14:01:25.469608   \n",
       "2      45a7135f8ed3120632ee896922bb1bf7  2020-08-12 14:01:25.471750   \n",
       "3      45a7135f8ed3120632ee896922bb1bf7  2020-08-12 14:01:25.473113   \n",
       "4      45a7135f8ed3120632ee896922bb1bf7  2020-08-12 14:01:25.490497   \n",
       "...                                 ...                         ...   \n",
       "32992  fe220d136c597b4b950a5170883c4127  2020-08-13 09:30:32.333018   \n",
       "32993  fe220d136c597b4b950a5170883c4127  2020-08-13 09:30:32.335445   \n",
       "32994  fe220d136c597b4b950a5170883c4127  2020-08-13 09:30:32.337309   \n",
       "33996  fe220d136c597b4b950a5170883c4127  2020-08-13 09:30:32.338774   \n",
       "33997  fe220d136c597b4b950a5170883c4127  2020-08-13 09:30:32.340055   \n",
       "\n",
       "                                    title  \n",
       "0                金融投资是什么?金融投资能赚钱吗?-基金-拍拍贷  \n",
       "1                               金融投资_百度百科  \n",
       "2      金锐祥股票-股票配资-证券期货开户-股票公司排行-金融投资理财债券-  \n",
       "3              金融投资 - 财务管理 - 财富管理 - 世界经理人  \n",
       "4              金融投资是什么?金融投资有哪几种?_中研普华_中研网  \n",
       "...                                   ...  \n",
       "32992           手中有20万元存款 买什么理财比较好? - 金融界  \n",
       "32993            诺亚财富如何实施产品策略进行安全投资 - 金融界  \n",
       "32994                  定投是简单有效的投资方式 - 金融界  \n",
       "33996               金融投资报:换个角度看中芯国际 - 金融界  \n",
       "33997                 川化股份重整投资人减持套现 - 金融界  \n",
       "\n",
       "[2333 rows x 6 columns]"
      ],
      "text/html": "<div>\n<style scoped>\n    .dataframe tbody tr th:only-of-type {\n        vertical-align: middle;\n    }\n\n    .dataframe tbody tr th {\n        vertical-align: top;\n    }\n\n    .dataframe thead th {\n        text-align: right;\n    }\n</style>\n<table border=\"1\" class=\"dataframe\">\n  <thead>\n    <tr style=\"text-align: right;\">\n      <th></th>\n      <th>_id</th>\n      <th>content</th>\n      <th>keyword</th>\n      <th>parent_id</th>\n      <th>timestamp</th>\n      <th>title</th>\n    </tr>\n  </thead>\n  <tbody>\n    <tr>\n      <th>0</th>\n      <td>2dde4f86749378cb92f8fba4a2d00372</td>\n      <td>2019年9月12日 - 金融投资是什么?提到金融投资,相信一般人会比较陌生,不如什么理财、...</td>\n      <td>金融投资</td>\n      <td>45a7135f8ed3120632ee896922bb1bf7</td>\n      <td>2020-08-12 14:01:25.284368</td>\n      <td>金融投资是什么?金融投资能赚钱吗?-基金-拍拍贷</td>\n    </tr>\n    <tr>\n      <th>1</th>\n      <td>6f0a3346c3185c163fc1471159f86106</td>\n      <td>NaN</td>\n      <td>金融投资</td>\n      <td>45a7135f8ed3120632ee896922bb1bf7</td>\n      <td>2020-08-12 14:01:25.469608</td>\n      <td>金融投资_百度百科</td>\n    </tr>\n    <tr>\n      <th>2</th>\n      <td>249312c693aa729a32cff9f5c0b7c551</td>\n      <td>金锐祥股票网提供全面的股票、外汇、期货投资分析,教您投资入门技巧,掌握投资知识,帮助小白入门...</td>\n      <td>金融投资</td>\n      <td>45a7135f8ed3120632ee896922bb1bf7</td>\n      <td>2020-08-12 14:01:25.471750</td>\n      <td>金锐祥股票-股票配资-证券期货开户-股票公司排行-金融投资理财债券-</td>\n    </tr>\n    <tr>\n      <th>3</th>\n      <td>c561d39f4bbf71828290e4e09f2b84ae</td>\n      <td>世界经理人金融投资频道提供投资理财、财富管理、海外投资、风险投资等资讯,让企业和投资者实时掌...</td>\n      <td>金融投资</td>\n      <td>45a7135f8ed3120632ee896922bb1bf7</td>\n      <td>2020-08-12 14:01:25.473113</td>\n      <td>金融投资 - 财务管理 - 财富管理 - 世界经理人</td>\n    </tr>\n    <tr>\n      <th>4</th>\n      <td>16a561b427f529573879f4894a27fc3a</td>\n      <td>2019年9月23日 - 市场经济的不断发展促进了金融投资行为的不断增加,那你关于金融投资你...</td>\n      <td>金融投资</td>\n      <td>45a7135f8ed3120632ee896922bb1bf7</td>\n      <td>2020-08-12 14:01:25.490497</td>\n      <td>金融投资是什么?金融投资有哪几种?_中研普华_中研网</td>\n    </tr>\n    <tr>\n      <th>...</th>\n      <td>...</td>\n      <td>...</td>\n      <td>...</td>\n      <td>...</td>\n      <td>...</td>\n      <td>...</td>\n    </tr>\n    <tr>\n      <th>32992</th>\n      <td>2d67fba187d8037baa3e03fc6acda740</td>\n      <td>2018年8月30日 - 对于保守型投资者来说,只能接受保本保息的产品,但是目前理财市场上真...</td>\n      <td>金融投资</td>\n      <td>fe220d136c597b4b950a5170883c4127</td>\n      <td>2020-08-13 09:30:32.333018</td>\n      <td>手中有20万元存款 买什么理财比较好? - 金融界</td>\n    </tr>\n    <tr>\n      <th>32993</th>\n      <td>a3e5153038893fe3884a0083db00b747</td>\n      <td>2020年7月21日 - 来源:金融投资网 诺亚财富在投资方面一直倡导组合型投资构建稳固的投...</td>\n      <td>金融投资</td>\n      <td>fe220d136c597b4b950a5170883c4127</td>\n      <td>2020-08-13 09:30:32.335445</td>\n      <td>诺亚财富如何实施产品策略进行安全投资 - 金融界</td>\n    </tr>\n    <tr>\n      <th>32994</th>\n      <td>2c68f4ad40a1756315706cbe2824d740</td>\n      <td>2019年5月24日 - 金融界 05-2416:38 投资行业与其他行业不同,一般行业用心...</td>\n      <td>金融投资</td>\n      <td>fe220d136c597b4b950a5170883c4127</td>\n      <td>2020-08-13 09:30:32.337309</td>\n      <td>定投是简单有效的投资方式 - 金融界</td>\n    </tr>\n    <tr>\n      <th>33996</th>\n      <td>ab110cfb7eab589d4af801863a89289a</td>\n      <td>2020年7月17日 - 来源:金融投资报 作者:刘柯 中芯国际(港股00981)上市,引发...</td>\n      <td>金融投资</td>\n      <td>fe220d136c597b4b950a5170883c4127</td>\n      <td>2020-08-13 09:30:32.338774</td>\n      <td>金融投资报:换个角度看中芯国际 - 金融界</td>\n    </tr>\n    <tr>\n      <th>33997</th>\n      <td>9bc78da81086ccc08cfc7a72e066c9b5</td>\n      <td>2018年8月9日 - 来源:金融投资报 8月8日,川化股份(000155)挑在这个坊间认为...</td>\n      <td>金融投资</td>\n      <td>fe220d136c597b4b950a5170883c4127</td>\n      <td>2020-08-13 09:30:32.340055</td>\n      <td>川化股份重整投资人减持套现 - 金融界</td>\n    </tr>\n  </tbody>\n</table>\n<p>2333 rows × 6 columns</p>\n</div>"
     },
     "metadata": {},
     "execution_count": 6
    }
   ],
   "source": [
    "data_df"
   ]
  },
  {
   "cell_type": "code",
   "execution_count": null,
   "metadata": {},
   "outputs": [],
   "source": []
  }
 ]
}