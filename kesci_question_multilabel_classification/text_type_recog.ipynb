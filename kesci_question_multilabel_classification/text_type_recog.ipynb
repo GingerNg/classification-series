{
 "metadata": {
  "language_info": {
   "codemirror_mode": {
    "name": "ipython",
    "version": 3
   },
   "file_extension": ".py",
   "mimetype": "text/x-python",
   "name": "python",
   "nbconvert_exporter": "python",
   "pygments_lexer": "ipython3",
   "version": "3.7.5-final"
  },
  "orig_nbformat": 2,
  "kernelspec": {
   "name": "python3",
   "display_name": "Python 3",
   "language": "python"
  }
 },
 "nbformat": 4,
 "nbformat_minor": 2,
 "cells": [
  {
   "cell_type": "code",
   "execution_count": 8,
   "metadata": {},
   "outputs": [],
   "source": [
    "import pandas as pd\n",
    "import numpy as np\n",
    "from sklearn.metrics.pairwise import cosine_similarity\n",
    "from nlp_tools import vec_tool"
   ]
  },
  {
   "cell_type": "code",
   "execution_count": 61,
   "metadata": {},
   "outputs": [],
   "source": [
    "from enum import Enum\n",
    "class TextTypeLabel(Enum):\n",
    "    Allege = \"陈述\"\n",
    "    Identity = \"认同\"\n",
    "    AskForCooperation = \"寻求配合\"\n",
    "    Quiz = \"提问\"\n",
    "    Sigh = \"感叹\"\n",
    "    Prologue = \"开场白\"\n",
    "    Closure = \"结束语\""
   ]
  },
  {
   "cell_type": "code",
   "execution_count": 2,
   "metadata": {},
   "outputs": [],
   "source": [
    "df = pd.read_csv(\"/home/wujinjie/TextPoseMatch/data/data.csv\", encoding=\"gbk\").dropna()"
   ]
  },
  {
   "cell_type": "code",
   "execution_count": 3,
   "metadata": {},
   "outputs": [],
   "source": [
    "df = df[0:100]\n"
   ]
  },
  {
   "cell_type": "code",
   "execution_count": 4,
   "metadata": {},
   "outputs": [
    {
     "output_type": "execute_result",
     "data": {
      "text/plain": [
       "    type text\n",
       "18  寻求配合  你来。"
      ],
      "text/html": "<div>\n<style scoped>\n    .dataframe tbody tr th:only-of-type {\n        vertical-align: middle;\n    }\n\n    .dataframe tbody tr th {\n        vertical-align: top;\n    }\n\n    .dataframe thead th {\n        text-align: right;\n    }\n</style>\n<table border=\"1\" class=\"dataframe\">\n  <thead>\n    <tr style=\"text-align: right;\">\n      <th></th>\n      <th>type</th>\n      <th>text</th>\n    </tr>\n  </thead>\n  <tbody>\n    <tr>\n      <th>18</th>\n      <td>寻求配合</td>\n      <td>你来。</td>\n    </tr>\n  </tbody>\n</table>\n</div>"
     },
     "metadata": {},
     "execution_count": 4
    }
   ],
   "source": [
    "df[df[\"text\"]==\"你来。\"]"
   ]
  },
  {
   "cell_type": "code",
   "execution_count": 5,
   "metadata": {},
   "outputs": [
    {
     "output_type": "execute_result",
     "data": {
      "text/plain": [
       "   type            text\n",
       "15   认同   真好，读得认真，听得仔细。\n",
       "16   认同  老师为你们的互帮互学，点赞。\n",
       "19   认同      小老师，声音真响亮。\n",
       "22   认同          字音可真准。\n",
       "27   认同          真是好办法。\n",
       "41   认同      你们俩的见识可真多。\n",
       "65   认同             很好。\n",
       "89   认同        你觉得是这样的!"
      ],
      "text/html": "<div>\n<style scoped>\n    .dataframe tbody tr th:only-of-type {\n        vertical-align: middle;\n    }\n\n    .dataframe tbody tr th {\n        vertical-align: top;\n    }\n\n    .dataframe thead th {\n        text-align: right;\n    }\n</style>\n<table border=\"1\" class=\"dataframe\">\n  <thead>\n    <tr style=\"text-align: right;\">\n      <th></th>\n      <th>type</th>\n      <th>text</th>\n    </tr>\n  </thead>\n  <tbody>\n    <tr>\n      <th>15</th>\n      <td>认同</td>\n      <td>真好，读得认真，听得仔细。</td>\n    </tr>\n    <tr>\n      <th>16</th>\n      <td>认同</td>\n      <td>老师为你们的互帮互学，点赞。</td>\n    </tr>\n    <tr>\n      <th>19</th>\n      <td>认同</td>\n      <td>小老师，声音真响亮。</td>\n    </tr>\n    <tr>\n      <th>22</th>\n      <td>认同</td>\n      <td>字音可真准。</td>\n    </tr>\n    <tr>\n      <th>27</th>\n      <td>认同</td>\n      <td>真是好办法。</td>\n    </tr>\n    <tr>\n      <th>41</th>\n      <td>认同</td>\n      <td>你们俩的见识可真多。</td>\n    </tr>\n    <tr>\n      <th>65</th>\n      <td>认同</td>\n      <td>很好。</td>\n    </tr>\n    <tr>\n      <th>89</th>\n      <td>认同</td>\n      <td>你觉得是这样的!</td>\n    </tr>\n  </tbody>\n</table>\n</div>"
     },
     "metadata": {},
     "execution_count": 5
    }
   ],
   "source": [
    "target = df[df[\"type\"]==\"认同\"]\n",
    "target"
   ]
  },
  {
   "cell_type": "code",
   "execution_count": 10,
   "metadata": {},
   "outputs": [
    {
     "output_type": "execute_result",
     "data": {
      "text/plain": [
       "(1, 2)"
      ]
     },
     "metadata": {},
     "execution_count": 10
    }
   ],
   "source": [
    "np.mat(np.array([1.0,2.0]).astype(\"float64\")).shape"
   ]
  },
  {
   "cell_type": "code",
   "execution_count": 11,
   "metadata": {},
   "outputs": [
    {
     "output_type": "execute_result",
     "data": {
      "text/plain": [
       "array([[0.8]])"
      ]
     },
     "metadata": {},
     "execution_count": 11
    }
   ],
   "source": [
    "\n",
    "def cos_similar(vec1, vec2):\n",
    "    return cosine_similarity(vec1, vec2)\n",
    "x1 = np.mat(np.array([1.0,2.0]).astype(\"float64\"))\n",
    "x2 = np.mat(np.array([2.0,1.0]).astype(\"float64\"))\n",
    "cosine_similarity(x1, x2)"
   ]
  },
  {
   "cell_type": "code",
   "execution_count": 12,
   "metadata": {},
   "outputs": [
    {
     "output_type": "execute_result",
     "data": {
      "text/plain": [
       "array([[0.3152114]], dtype=float32)"
      ]
     },
     "metadata": {},
     "execution_count": 12
    }
   ],
   "source": [
    "cosine_similarity(np.expand_dims(vec_tool.lookup(\"认同\"),0), np.expand_dims(vec_tool.lookup(\"寻求配合\"), 0))"
   ]
  },
  {
   "cell_type": "code",
   "execution_count": 62,
   "metadata": {},
   "outputs": [],
   "source": [
    "# 生成cato_dicts\n",
    "cato_dicts = {}\n",
    "for l in [TextTypeLabel.Identity.value, TextTypeLabel.AskForCooperation.value, TextTypeLabel.Prologue.value]:\n",
    "    target = df[df[\"type\"]==l]\n",
    "    vects = []\n",
    "    for line in target[\"text\"]:\n",
    "        vects.append(np.expand_dims(vec_tool.lookup(line), 0))\n",
    "    cato_dicts[l] = vects"
   ]
  },
  {
   "cell_type": "code",
   "execution_count": 63,
   "metadata": {},
   "outputs": [],
   "source": [
    "def knn(cato_dicts, vec):\n",
    "    scores = {}\n",
    "    for k,vs in cato_dicts.items():\n",
    "        scores[k] = 0.0\n",
    "        for v in vs:\n",
    "            s = cos_similar(v, vec)\n",
    "            if s > 0.8:\n",
    "                scores[k] += 1.0\n",
    "            # scores[k] += cos_similar(v, vec)\n",
    "        # scores[k] = scores[k]/len(vs)  # todo\n",
    "    return scores"
   ]
  },
  {
   "cell_type": "code",
   "execution_count": 44,
   "metadata": {},
   "outputs": [
    {
     "output_type": "execute_result",
     "data": {
      "text/plain": [
       "{'认同': 0.0, '寻求配合': 0.0}"
      ]
     },
     "metadata": {},
     "execution_count": 44
    }
   ],
   "source": [
    "vec = np.expand_dims(vec_tool.lookup(\"机械钟。\"),0)\n",
    "knn(cato_dicts, vec)"
   ]
  },
  {
   "cell_type": "code",
   "execution_count": 7,
   "metadata": {},
   "outputs": [
    {
     "output_type": "execute_result",
     "data": {
      "text/plain": [
       "   type                             text\n",
       "56   陈述           “一分钟”里的“钟”字，表示的是时间的长度。\n",
       "8    陈述                     孩子们，生字都会读了吗？\n",
       "94   陈述                   好的，大家都有了自己的想法。\n",
       "23   提问                        第三行，谁来领读？\n",
       "55   陈述                             一分钟。\n",
       "87   提问  课文里，为什么元yuan只多睡了一分钟，结果就迟到了二十分钟？\n",
       "7    陈述                 特别要注意带颜色的，生字的读音。\n",
       "50   陈述                             机械钟。\n",
       "85   陈述                       是的，还有好多好多。"
      ],
      "text/html": "<div>\n<style scoped>\n    .dataframe tbody tr th:only-of-type {\n        vertical-align: middle;\n    }\n\n    .dataframe tbody tr th {\n        vertical-align: top;\n    }\n\n    .dataframe thead th {\n        text-align: right;\n    }\n</style>\n<table border=\"1\" class=\"dataframe\">\n  <thead>\n    <tr style=\"text-align: right;\">\n      <th></th>\n      <th>type</th>\n      <th>text</th>\n    </tr>\n  </thead>\n  <tbody>\n    <tr>\n      <th>56</th>\n      <td>陈述</td>\n      <td>“一分钟”里的“钟”字，表示的是时间的长度。</td>\n    </tr>\n    <tr>\n      <th>8</th>\n      <td>陈述</td>\n      <td>孩子们，生字都会读了吗？</td>\n    </tr>\n    <tr>\n      <th>94</th>\n      <td>陈述</td>\n      <td>好的，大家都有了自己的想法。</td>\n    </tr>\n    <tr>\n      <th>23</th>\n      <td>提问</td>\n      <td>第三行，谁来领读？</td>\n    </tr>\n    <tr>\n      <th>55</th>\n      <td>陈述</td>\n      <td>一分钟。</td>\n    </tr>\n    <tr>\n      <th>87</th>\n      <td>提问</td>\n      <td>课文里，为什么元yuan只多睡了一分钟，结果就迟到了二十分钟？</td>\n    </tr>\n    <tr>\n      <th>7</th>\n      <td>陈述</td>\n      <td>特别要注意带颜色的，生字的读音。</td>\n    </tr>\n    <tr>\n      <th>50</th>\n      <td>陈述</td>\n      <td>机械钟。</td>\n    </tr>\n    <tr>\n      <th>85</th>\n      <td>陈述</td>\n      <td>是的，还有好多好多。</td>\n    </tr>\n  </tbody>\n</table>\n</div>"
     },
     "metadata": {},
     "execution_count": 7
    }
   ],
   "source": [
    "non_target = df[df[\"type\"]!=\"认同\"]\n",
    "non_target.sample(len(target))"
   ]
  },
  {
   "cell_type": "code",
   "execution_count": 60,
   "metadata": {},
   "outputs": [
    {
     "output_type": "execute_result",
     "data": {
      "text/plain": [
       "  type   text\n",
       "0  开场白    上课！\n",
       "1  开场白    起立！\n",
       "2  开场白   老师好！\n",
       "3  开场白  同学们好！\n",
       "4  开场白    请坐。"
      ],
      "text/html": "<div>\n<style scoped>\n    .dataframe tbody tr th:only-of-type {\n        vertical-align: middle;\n    }\n\n    .dataframe tbody tr th {\n        vertical-align: top;\n    }\n\n    .dataframe thead th {\n        text-align: right;\n    }\n</style>\n<table border=\"1\" class=\"dataframe\">\n  <thead>\n    <tr style=\"text-align: right;\">\n      <th></th>\n      <th>type</th>\n      <th>text</th>\n    </tr>\n  </thead>\n  <tbody>\n    <tr>\n      <th>0</th>\n      <td>开场白</td>\n      <td>上课！</td>\n    </tr>\n    <tr>\n      <th>1</th>\n      <td>开场白</td>\n      <td>起立！</td>\n    </tr>\n    <tr>\n      <th>2</th>\n      <td>开场白</td>\n      <td>老师好！</td>\n    </tr>\n    <tr>\n      <th>3</th>\n      <td>开场白</td>\n      <td>同学们好！</td>\n    </tr>\n    <tr>\n      <th>4</th>\n      <td>开场白</td>\n      <td>请坐。</td>\n    </tr>\n  </tbody>\n</table>\n</div>"
     },
     "metadata": {},
     "execution_count": 60
    }
   ],
   "source": [
    "t = df[df[\"type\"]==\"开场白\"]\n",
    "t"
   ]
  },
  {
   "cell_type": "code",
   "execution_count": 26,
   "metadata": {},
   "outputs": [
    {
     "output_type": "execute_result",
     "data": {
      "text/plain": [
       "6"
      ]
     },
     "metadata": {},
     "execution_count": 26
    }
   ],
   "source": [
    "len(df[\"type\"].unique())"
   ]
  },
  {
   "cell_type": "code",
   "execution_count": 3,
   "metadata": {},
   "outputs": [
    {
     "output_type": "execute_result",
     "data": {
      "text/plain": [
       "      text\n",
       "type      \n",
       "寻求配合    30\n",
       "开场白      5\n",
       "感叹       2\n",
       "提问      50\n",
       "认同      12\n",
       "陈述     105"
      ],
      "text/html": "<div>\n<style scoped>\n    .dataframe tbody tr th:only-of-type {\n        vertical-align: middle;\n    }\n\n    .dataframe tbody tr th {\n        vertical-align: top;\n    }\n\n    .dataframe thead th {\n        text-align: right;\n    }\n</style>\n<table border=\"1\" class=\"dataframe\">\n  <thead>\n    <tr style=\"text-align: right;\">\n      <th></th>\n      <th>text</th>\n    </tr>\n    <tr>\n      <th>type</th>\n      <th></th>\n    </tr>\n  </thead>\n  <tbody>\n    <tr>\n      <th>寻求配合</th>\n      <td>30</td>\n    </tr>\n    <tr>\n      <th>开场白</th>\n      <td>5</td>\n    </tr>\n    <tr>\n      <th>感叹</th>\n      <td>2</td>\n    </tr>\n    <tr>\n      <th>提问</th>\n      <td>50</td>\n    </tr>\n    <tr>\n      <th>认同</th>\n      <td>12</td>\n    </tr>\n    <tr>\n      <th>陈述</th>\n      <td>105</td>\n    </tr>\n  </tbody>\n</table>\n</div>"
     },
     "metadata": {},
     "execution_count": 3
    }
   ],
   "source": [
    "df.groupby(\"type\").count()"
   ]
  },
  {
   "cell_type": "code",
   "execution_count": null,
   "metadata": {},
   "outputs": [],
   "source": []
  },
  {
   "cell_type": "code",
   "execution_count": 10,
   "metadata": {},
   "outputs": [],
   "source": [
    "from sklearn.model_selection import train_test_split\n",
    "X = df[\"text\"]\n",
    "y = df[\"type\"]\n",
    "X_train, X_test, y_train, y_test = train_test_split(X, y, test_size=0.5, random_state=1)\n",
    "# y_test"
   ]
  },
  {
   "cell_type": "code",
   "execution_count": 20,
   "metadata": {},
   "outputs": [
    {
     "output_type": "execute_result",
     "data": {
      "text/plain": [
       "(102,)"
      ]
     },
     "metadata": {},
     "execution_count": 20
    }
   ],
   "source": [
    "import numpy as np\n",
    "d = np.array(X_train.tolist())\n",
    "d.shape"
   ]
  },
  {
   "cell_type": "code",
   "execution_count": 65,
   "metadata": {},
   "outputs": [],
   "source": [
    "def recog_test_type(text: str):\n",
    "    # S0. 开场白，结束语\n",
    "    # S1. 认同or寻求配合\n",
    "    vec = np.expand_dims(vec_tool.lookup(text),0)\n",
    "    knn_res = knn(cato_dicts, vec)\n",
    "    # {'认同': 0.0, '寻求配合': 0.0}\n",
    "    top =  sorted(knn_res.items(), key=lambda x:x[1], reverse=True)[0]\n",
    "    if top[1]>0.0:\n",
    "        return top[0]\n",
    "    # S2. 提问，感叹\n",
    "    if text.endswith(\"!\"):\n",
    "        return TextTypeLabel.Sigh.value\n",
    "    if text.endswith(\"?\"):\n",
    "        return TextTypeLabel.Quiz.value\n",
    "\n",
    "    # S3. 陈述\n",
    "    return TextTypeLabel.Allege.value"
   ]
  },
  {
   "cell_type": "code",
   "execution_count": 76,
   "metadata": {},
   "outputs": [
    {
     "output_type": "execute_result",
     "data": {
      "text/plain": [
       "'开场白'"
      ]
     },
     "metadata": {},
     "execution_count": 76
    }
   ],
   "source": [
    "recog_test_type(\"起立！\")"
   ]
  },
  {
   "cell_type": "code",
   "execution_count": null,
   "metadata": {},
   "outputs": [],
   "source": []
  }
 ]
}