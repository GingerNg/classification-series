{
 "cells": [
  {
   "cell_type": "code",
   "execution_count": 22,
   "source": [
    "%load_ext autoreload\n",
    "%autoreload 2"
   ],
   "outputs": [
    {
     "output_type": "stream",
     "name": "stdout",
     "text": [
      "The autoreload extension is already loaded. To reload it, use:\n",
      "  %reload_ext autoreload\n"
     ]
    }
   ],
   "metadata": {}
  },
  {
   "cell_type": "code",
   "execution_count": 23,
   "source": [
    "import pandas as pd"
   ],
   "outputs": [],
   "metadata": {}
  },
  {
   "cell_type": "code",
   "execution_count": 24,
   "source": [
    "train_df = pd.read_excel('data/好大夫在线_非标准化疾病诉求的简单分诊数据集/train.xlsx', engine='openpyxl')\n",
    "test_df = pd.read_excel('data/好大夫在线_非标准化疾病诉求的简单分诊数据集/test.xlsx', engine='openpyxl')"
   ],
   "outputs": [],
   "metadata": {}
  },
  {
   "cell_type": "code",
   "execution_count": 46,
   "source": [
    "len(train_df)"
   ],
   "outputs": [
    {
     "output_type": "execute_result",
     "data": {
      "text/plain": [
       "7844"
      ]
     },
     "metadata": {},
     "execution_count": 46
    }
   ],
   "metadata": {}
  },
  {
   "cell_type": "code",
   "execution_count": 25,
   "source": [
    "train_df.head(2)"
   ],
   "outputs": [
    {
     "output_type": "execute_result",
     "data": {
      "text/html": [
       "<div>\n",
       "<style scoped>\n",
       "    .dataframe tbody tr th:only-of-type {\n",
       "        vertical-align: middle;\n",
       "    }\n",
       "\n",
       "    .dataframe tbody tr th {\n",
       "        vertical-align: top;\n",
       "    }\n",
       "\n",
       "    .dataframe thead th {\n",
       "        text-align: right;\n",
       "    }\n",
       "</style>\n",
       "<table border=\"1\" class=\"dataframe\">\n",
       "  <thead>\n",
       "    <tr style=\"text-align: right;\">\n",
       "      <th></th>\n",
       "      <th>id</th>\n",
       "      <th>age</th>\n",
       "      <th>diseaseName</th>\n",
       "      <th>conditionDesc</th>\n",
       "      <th>title</th>\n",
       "      <th>hopeHelp</th>\n",
       "      <th>label</th>\n",
       "    </tr>\n",
       "  </thead>\n",
       "  <tbody>\n",
       "    <tr>\n",
       "      <th>0</th>\n",
       "      <td>1</td>\n",
       "      <td>50+</td>\n",
       "      <td>肺部积水等</td>\n",
       "      <td>右腹处疼痛 伴气短 检查出肺部有积水等症状</td>\n",
       "      <td>入院时间咨询</td>\n",
       "      <td>早上好 请问下**今天去医院可以安排吗</td>\n",
       "      <td>8</td>\n",
       "    </tr>\n",
       "    <tr>\n",
       "      <th>1</th>\n",
       "      <td>2</td>\n",
       "      <td>30+</td>\n",
       "      <td>怎么才能知道自己缺钙</td>\n",
       "      <td>有时候腰膝酸软四肢无力感觉，睡眠不是太好，总是爱做梦</td>\n",
       "      <td>不知道是缺钙还是肾虚</td>\n",
       "      <td>请问这是肾虚症状还是缺钙症状啊</td>\n",
       "      <td>4</td>\n",
       "    </tr>\n",
       "  </tbody>\n",
       "</table>\n",
       "</div>"
      ],
      "text/plain": [
       "   id  age diseaseName               conditionDesc       title  \\\n",
       "0   1  50+       肺部积水等       右腹处疼痛 伴气短 检查出肺部有积水等症状      入院时间咨询   \n",
       "1   2  30+  怎么才能知道自己缺钙  有时候腰膝酸软四肢无力感觉，睡眠不是太好，总是爱做梦  不知道是缺钙还是肾虚   \n",
       "\n",
       "              hopeHelp  label  \n",
       "0  早上好 请问下**今天去医院可以安排吗      8  \n",
       "1      请问这是肾虚症状还是缺钙症状啊      4  "
      ]
     },
     "metadata": {},
     "execution_count": 25
    }
   ],
   "metadata": {}
  },
  {
   "cell_type": "code",
   "execution_count": 52,
   "source": [
    "for df in [train_df, test_df]:\n",
    "    df['text'] = str(df['title']) + str(df['conditionDesc']) + str(df['hopeHelp']) + str(df['diseaseName'])"
   ],
   "outputs": [],
   "metadata": {}
  },
  {
   "cell_type": "code",
   "execution_count": 53,
   "source": [
    "train_df[train_df['text'].isna()]"
   ],
   "outputs": [
    {
     "output_type": "execute_result",
     "data": {
      "text/html": [
       "<div>\n",
       "<style scoped>\n",
       "    .dataframe tbody tr th:only-of-type {\n",
       "        vertical-align: middle;\n",
       "    }\n",
       "\n",
       "    .dataframe tbody tr th {\n",
       "        vertical-align: top;\n",
       "    }\n",
       "\n",
       "    .dataframe thead th {\n",
       "        text-align: right;\n",
       "    }\n",
       "</style>\n",
       "<table border=\"1\" class=\"dataframe\">\n",
       "  <thead>\n",
       "    <tr style=\"text-align: right;\">\n",
       "      <th></th>\n",
       "      <th>id</th>\n",
       "      <th>age</th>\n",
       "      <th>diseaseName</th>\n",
       "      <th>conditionDesc</th>\n",
       "      <th>title</th>\n",
       "      <th>hopeHelp</th>\n",
       "      <th>label</th>\n",
       "      <th>text</th>\n",
       "    </tr>\n",
       "  </thead>\n",
       "  <tbody>\n",
       "  </tbody>\n",
       "</table>\n",
       "</div>"
      ],
      "text/plain": [
       "Empty DataFrame\n",
       "Columns: [id, age, diseaseName, conditionDesc, title, hopeHelp, label, text]\n",
       "Index: []"
      ]
     },
     "metadata": {},
     "execution_count": 53
    }
   ],
   "metadata": {}
  },
  {
   "cell_type": "code",
   "execution_count": 56,
   "source": [
    "train_df.dropna(subset=[\"text\"])"
   ],
   "outputs": [
    {
     "output_type": "execute_result",
     "data": {
      "text/html": [
       "<div>\n",
       "<style scoped>\n",
       "    .dataframe tbody tr th:only-of-type {\n",
       "        vertical-align: middle;\n",
       "    }\n",
       "\n",
       "    .dataframe tbody tr th {\n",
       "        vertical-align: top;\n",
       "    }\n",
       "\n",
       "    .dataframe thead th {\n",
       "        text-align: right;\n",
       "    }\n",
       "</style>\n",
       "<table border=\"1\" class=\"dataframe\">\n",
       "  <thead>\n",
       "    <tr style=\"text-align: right;\">\n",
       "      <th></th>\n",
       "      <th>id</th>\n",
       "      <th>age</th>\n",
       "      <th>diseaseName</th>\n",
       "      <th>conditionDesc</th>\n",
       "      <th>title</th>\n",
       "      <th>hopeHelp</th>\n",
       "      <th>label</th>\n",
       "      <th>text</th>\n",
       "    </tr>\n",
       "  </thead>\n",
       "  <tbody>\n",
       "    <tr>\n",
       "      <th>0</th>\n",
       "      <td>1</td>\n",
       "      <td>50+</td>\n",
       "      <td>肺部积水等</td>\n",
       "      <td>右腹处疼痛 伴气短 检查出肺部有积水等症状</td>\n",
       "      <td>入院时间咨询</td>\n",
       "      <td>早上好 请问下**今天去医院可以安排吗</td>\n",
       "      <td>8</td>\n",
       "      <td>0                         入院时间咨询\\n1           ...</td>\n",
       "    </tr>\n",
       "    <tr>\n",
       "      <th>1</th>\n",
       "      <td>2</td>\n",
       "      <td>30+</td>\n",
       "      <td>怎么才能知道自己缺钙</td>\n",
       "      <td>有时候腰膝酸软四肢无力感觉，睡眠不是太好，总是爱做梦</td>\n",
       "      <td>不知道是缺钙还是肾虚</td>\n",
       "      <td>请问这是肾虚症状还是缺钙症状啊</td>\n",
       "      <td>4</td>\n",
       "      <td>0                         入院时间咨询\\n1           ...</td>\n",
       "    </tr>\n",
       "    <tr>\n",
       "      <th>2</th>\n",
       "      <td>3</td>\n",
       "      <td>20+</td>\n",
       "      <td>舌头发麻，右下唇僵硬，带有发烧</td>\n",
       "      <td>舌头发麻，右下唇僵硬，带有发烧，嗓子有炎症</td>\n",
       "      <td>舌头发麻，右下唇僵硬，带有发烧</td>\n",
       "      <td>给一些建议，是否需要进行下一步检查</td>\n",
       "      <td>4</td>\n",
       "      <td>0                         入院时间咨询\\n1           ...</td>\n",
       "    </tr>\n",
       "    <tr>\n",
       "      <th>3</th>\n",
       "      <td>4</td>\n",
       "      <td>30+</td>\n",
       "      <td>后背不适，胸口对应处</td>\n",
       "      <td>因经常嗳气，胃吃完顶人，后就医，胃镜显示浅表性胃炎，吃药一周余，有所好转，但后背一直不舒服，...</td>\n",
       "      <td>后背不适，胸口对应处，不是疼，不是酸痛，就是难受</td>\n",
       "      <td>如何调整治疗</td>\n",
       "      <td>4</td>\n",
       "      <td>0                         入院时间咨询\\n1           ...</td>\n",
       "    </tr>\n",
       "    <tr>\n",
       "      <th>4</th>\n",
       "      <td>5</td>\n",
       "      <td>40+</td>\n",
       "      <td>喉咙充血，有异物感，不痛。有少许痰</td>\n",
       "      <td>两个月前，喉部充血，咳嗽，去医院看过，咽炎，现在咳了，就是喉咙充血，有异物感。</td>\n",
       "      <td>看吃点什么药能尽快好起来</td>\n",
       "      <td>看吃点什么药能尽快好起来</td>\n",
       "      <td>0</td>\n",
       "      <td>0                         入院时间咨询\\n1           ...</td>\n",
       "    </tr>\n",
       "    <tr>\n",
       "      <th>...</th>\n",
       "      <td>...</td>\n",
       "      <td>...</td>\n",
       "      <td>...</td>\n",
       "      <td>...</td>\n",
       "      <td>...</td>\n",
       "      <td>...</td>\n",
       "      <td>...</td>\n",
       "      <td>...</td>\n",
       "    </tr>\n",
       "    <tr>\n",
       "      <th>7839</th>\n",
       "      <td>7840</td>\n",
       "      <td>30+</td>\n",
       "      <td>桥本氏甲状腺炎</td>\n",
       "      <td>脚软，如晚上睡不好时脖子会出汗</td>\n",
       "      <td>想知道能怀孕不，会不会很严重</td>\n",
       "      <td>想知道能怀孕不，会不会很严重</td>\n",
       "      <td>6</td>\n",
       "      <td>0                         入院时间咨询\\n1           ...</td>\n",
       "    </tr>\n",
       "    <tr>\n",
       "      <th>7840</th>\n",
       "      <td>7841</td>\n",
       "      <td>0+</td>\n",
       "      <td>右下腹疼痛伴有恶心</td>\n",
       "      <td>右下腹痛还有恶心昨天下午4.00开始疼痛</td>\n",
       "      <td>怀疑阑尾炎不确定</td>\n",
       "      <td>看不看挂那个科室</td>\n",
       "      <td>4</td>\n",
       "      <td>0                         入院时间咨询\\n1           ...</td>\n",
       "    </tr>\n",
       "    <tr>\n",
       "      <th>7841</th>\n",
       "      <td>7842</td>\n",
       "      <td>30+</td>\n",
       "      <td>免疫力低下</td>\n",
       "      <td>女,33岁。麻烦看看结果，这两项异常值代表什么？请大夫给予解答。谢谢</td>\n",
       "      <td>请大夫帮忙看看结果</td>\n",
       "      <td>请大夫帮忙看看结果</td>\n",
       "      <td>4</td>\n",
       "      <td>0                         入院时间咨询\\n1           ...</td>\n",
       "    </tr>\n",
       "    <tr>\n",
       "      <th>7842</th>\n",
       "      <td>7843</td>\n",
       "      <td>10+</td>\n",
       "      <td>背部肝区隐痛，腹涨恶心，没食欲\\n腹涨，没食欲\\n背部不舒服\\n胸口中间闷痛</td>\n",
       "      <td>男,17岁。干完体力活搬重东西后，出现胸口中间闷痛，呼吸不畅很难受，有慢性鼻炎</td>\n",
       "      <td>胸口中间闷痛</td>\n",
       "      <td>什么引起的</td>\n",
       "      <td>4</td>\n",
       "      <td>0                         入院时间咨询\\n1           ...</td>\n",
       "    </tr>\n",
       "    <tr>\n",
       "      <th>7843</th>\n",
       "      <td>7844</td>\n",
       "      <td>40+</td>\n",
       "      <td>新增</td>\n",
       "      <td>近期。肝区手按有痛点，精神疲乏。食欲差，</td>\n",
       "      <td>病多。怎么办</td>\n",
       "      <td>需要医生解读</td>\n",
       "      <td>4</td>\n",
       "      <td>0                         入院时间咨询\\n1           ...</td>\n",
       "    </tr>\n",
       "  </tbody>\n",
       "</table>\n",
       "<p>7844 rows × 8 columns</p>\n",
       "</div>"
      ],
      "text/plain": [
       "        id  age                             diseaseName  \\\n",
       "0        1  50+                                   肺部积水等   \n",
       "1        2  30+                              怎么才能知道自己缺钙   \n",
       "2        3  20+                         舌头发麻，右下唇僵硬，带有发烧   \n",
       "3        4  30+                              后背不适，胸口对应处   \n",
       "4        5  40+                       喉咙充血，有异物感，不痛。有少许痰   \n",
       "...    ...  ...                                     ...   \n",
       "7839  7840  30+                                 桥本氏甲状腺炎   \n",
       "7840  7841   0+                               右下腹疼痛伴有恶心   \n",
       "7841  7842  30+                                   免疫力低下   \n",
       "7842  7843  10+  背部肝区隐痛，腹涨恶心，没食欲\\n腹涨，没食欲\\n背部不舒服\\n胸口中间闷痛   \n",
       "7843  7844  40+                                      新增   \n",
       "\n",
       "                                          conditionDesc  \\\n",
       "0                                 右腹处疼痛 伴气短 检查出肺部有积水等症状   \n",
       "1                            有时候腰膝酸软四肢无力感觉，睡眠不是太好，总是爱做梦   \n",
       "2                                 舌头发麻，右下唇僵硬，带有发烧，嗓子有炎症   \n",
       "3     因经常嗳气，胃吃完顶人，后就医，胃镜显示浅表性胃炎，吃药一周余，有所好转，但后背一直不舒服，...   \n",
       "4               两个月前，喉部充血，咳嗽，去医院看过，咽炎，现在咳了，就是喉咙充血，有异物感。   \n",
       "...                                                 ...   \n",
       "7839                                    脚软，如晚上睡不好时脖子会出汗   \n",
       "7840                               右下腹痛还有恶心昨天下午4.00开始疼痛   \n",
       "7841                 女,33岁。麻烦看看结果，这两项异常值代表什么？请大夫给予解答。谢谢   \n",
       "7842            男,17岁。干完体力活搬重东西后，出现胸口中间闷痛，呼吸不畅很难受，有慢性鼻炎   \n",
       "7843                               近期。肝区手按有痛点，精神疲乏。食欲差，   \n",
       "\n",
       "                         title             hopeHelp  label  \\\n",
       "0                       入院时间咨询  早上好 请问下**今天去医院可以安排吗      8   \n",
       "1                   不知道是缺钙还是肾虚      请问这是肾虚症状还是缺钙症状啊      4   \n",
       "2              舌头发麻，右下唇僵硬，带有发烧    给一些建议，是否需要进行下一步检查      4   \n",
       "3     后背不适，胸口对应处，不是疼，不是酸痛，就是难受               如何调整治疗      4   \n",
       "4                 看吃点什么药能尽快好起来         看吃点什么药能尽快好起来      0   \n",
       "...                        ...                  ...    ...   \n",
       "7839            想知道能怀孕不，会不会很严重       想知道能怀孕不，会不会很严重      6   \n",
       "7840                  怀疑阑尾炎不确定             看不看挂那个科室      4   \n",
       "7841                 请大夫帮忙看看结果            请大夫帮忙看看结果      4   \n",
       "7842                    胸口中间闷痛                什么引起的      4   \n",
       "7843                    病多。怎么办               需要医生解读      4   \n",
       "\n",
       "                                                   text  \n",
       "0     0                         入院时间咨询\\n1           ...  \n",
       "1     0                         入院时间咨询\\n1           ...  \n",
       "2     0                         入院时间咨询\\n1           ...  \n",
       "3     0                         入院时间咨询\\n1           ...  \n",
       "4     0                         入院时间咨询\\n1           ...  \n",
       "...                                                 ...  \n",
       "7839  0                         入院时间咨询\\n1           ...  \n",
       "7840  0                         入院时间咨询\\n1           ...  \n",
       "7841  0                         入院时间咨询\\n1           ...  \n",
       "7842  0                         入院时间咨询\\n1           ...  \n",
       "7843  0                         入院时间咨询\\n1           ...  \n",
       "\n",
       "[7844 rows x 8 columns]"
      ]
     },
     "metadata": {},
     "execution_count": 56
    }
   ],
   "metadata": {}
  },
  {
   "cell_type": "code",
   "execution_count": 76,
   "source": [
    "train_df = train_df[0:100]"
   ],
   "outputs": [],
   "metadata": {}
  },
  {
   "cell_type": "code",
   "execution_count": 77,
   "source": [
    "from sklearn.model_selection import train_test_split\n",
    "X = list(train_df['text'])\n",
    "y = list(train_df['label'])\n",
    "X_train, X_valid, y_train, y_valid = train_test_split(X, y, test_size=0.2)"
   ],
   "outputs": [],
   "metadata": {}
  },
  {
   "cell_type": "code",
   "execution_count": 78,
   "source": [
    "len(X_train)"
   ],
   "outputs": [
    {
     "output_type": "execute_result",
     "data": {
      "text/plain": [
       "80"
      ]
     },
     "metadata": {},
     "execution_count": 78
    }
   ],
   "metadata": {}
  },
  {
   "cell_type": "code",
   "execution_count": 79,
   "source": [
    "from corpus_preprocess.haodaifu_process import HaoDaiFuDataset, Processor\n",
    "from corpus_preprocess import haodaifu_process\n",
    "from torch.utils.data import DataLoader"
   ],
   "outputs": [],
   "metadata": {}
  },
  {
   "cell_type": "code",
   "execution_count": 80,
   "source": [
    "from corpus_preprocess.encoders import BertEncoder\n",
    "from utils.model_utils import device\n",
    "import torch\n",
    "processor = Processor()\n",
    "encoder = BertEncoder()\n",
    "def collate_batch(batch):\n",
    "    # bert encode\n",
    "    label_list, text_list, token_type_ids_list, attention_mask_list = [], [], [], []\n",
    "    for x, y in batch:\n",
    "        label_list.append(y)\n",
    "        input_ids, token_type_ids, attention_mask = encoder.encode_ids(processor.process(x))\n",
    "        text_list.append(input_ids)\n",
    "        token_type_ids_list.append(token_type_ids)\n",
    "        attention_mask_list.append(attention_mask)\n",
    "    label_list = torch.tensor(label_list, dtype=torch.int64)\n",
    "    text_list = torch.tensor(text_list)\n",
    "    type_ids = torch.tensor(token_type_ids_list)\n",
    "    atten_masks = torch.tensor(attention_mask_list)\n",
    "    return (text_list.to(device), type_ids.to(device), atten_masks.to(device)), label_list.to(device)"
   ],
   "outputs": [],
   "metadata": {}
  },
  {
   "cell_type": "code",
   "execution_count": 81,
   "source": [
    "train_ds = HaoDaiFuDataset(X_train, y_train)\n",
    "valid_ds = HaoDaiFuDataset(X_valid, y_valid)\n",
    "\n",
    "vocab_size = 100\n",
    "batch_size = 64\n",
    "train_dl = DataLoader(train_ds, \n",
    "                        batch_size=batch_size,\n",
    "                        shuffle=True, \n",
    "                        collate_fn=collate_batch)\n",
    "val_dl = DataLoader(valid_ds, \n",
    "                    batch_size=batch_size, \n",
    "                    collate_fn=collate_batch)"
   ],
   "outputs": [],
   "metadata": {}
  },
  {
   "cell_type": "code",
   "execution_count": 82,
   "source": [
    "# for x, y in train_dl:\n",
    "#     print(x)"
   ],
   "outputs": [],
   "metadata": {}
  },
  {
   "cell_type": "code",
   "execution_count": 83,
   "source": [
    "from models.bert import MyBert\n",
    "import numpy as np\n",
    "import torch.nn.functional as F\n",
    "from sklearn.metrics import mean_squared_error"
   ],
   "outputs": [],
   "metadata": {}
  },
  {
   "cell_type": "code",
   "execution_count": 84,
   "source": [
    "LABELS = list(range(10))\n",
    "LABELS"
   ],
   "outputs": [
    {
     "output_type": "execute_result",
     "data": {
      "text/plain": [
       "[0, 1, 2, 3, 4, 5, 6, 7, 8, 9]"
      ]
     },
     "metadata": {},
     "execution_count": 84
    }
   ],
   "metadata": {}
  },
  {
   "cell_type": "code",
   "execution_count": 86,
   "source": [
    "class Runner(object):\n",
    "    def __init__(self, vocab_size, labels):\n",
    "        super().__init__()\n",
    "        self.model = MyBert(num_tags=len(labels))\n",
    "\n",
    "    def run(self, mth='train'):\n",
    "        if mth == \"train\":\n",
    "            self.train_model()\n",
    "\n",
    "    def train_model(self, epochs=1, lr=0.001):\n",
    "        parameters = filter(lambda p: p.requires_grad, self.model.parameters())\n",
    "        optimizer = torch.optim.Adam(parameters, lr=lr)\n",
    "        for i in range(epochs):\n",
    "            self.model.train()\n",
    "            sum_loss = 0.0\n",
    "            total = 0\n",
    "            for x, y in train_dl:\n",
    "                y_pred = self.model(x)\n",
    "                optimizer.zero_grad()\n",
    "                print(y_pred.shape, y.shape)\n",
    "                loss = F.cross_entropy(y_pred, y)\n",
    "                loss.backward()\n",
    "                optimizer.step()\n",
    "                sum_loss += loss.item()*y.shape[0]\n",
    "                total += y.shape[0]\n",
    "            # metric on train-data\n",
    "            train_loss, train_acc, train_rmse = self.validation_metrics(train_dl)\n",
    "            print(\"train loss %.3f, train accuracy %.3f, and train rmse %.3f\" % (sum_loss/total, train_acc, train_rmse))\n",
    "            val_loss, val_acc, val_rmse = self.validation_metrics(val_dl)\n",
    "            # if i % 5 == 1:\n",
    "            print(\"val loss %.3f, val accuracy %.3f, and val rmse %.3f\" % (sum_loss/total, val_acc, val_rmse))\n",
    "\n",
    "    def validation_metrics(self, valid_dl):\n",
    "        self.model.eval()\n",
    "        correct = 0\n",
    "        total = 0\n",
    "        sum_loss = 0.0\n",
    "        sum_rmse = 0.0\n",
    "        for x, y in valid_dl:\n",
    "            # x = x.long()\n",
    "            # y = y.long()\n",
    "            y_hat = self.model(x)\n",
    "            loss = F.cross_entropy(y_hat, y)\n",
    "            pred = torch.max(y_hat, 1)[1]\n",
    "            correct += (pred == y).float().sum()\n",
    "            total += y.shape[0]\n",
    "            sum_loss += loss.item()*y.shape[0]\n",
    "            sum_rmse += np.sqrt(mean_squared_error(pred, y.unsqueeze(-1)))*y.shape[0]\n",
    "        return sum_loss/total, correct/total, sum_rmse/total\n",
    "\n",
    "runner = Runner(vocab_size=vocab_size, labels=LABELS)\n",
    "runner.run(mth=\"train\")"
   ],
   "outputs": [],
   "metadata": {}
  },
  {
   "cell_type": "code",
   "execution_count": null,
   "source": [],
   "outputs": [],
   "metadata": {}
  }
 ],
 "metadata": {
  "orig_nbformat": 4,
  "language_info": {
   "name": "python",
   "version": "3.9.4",
   "mimetype": "text/x-python",
   "codemirror_mode": {
    "name": "ipython",
    "version": 3
   },
   "pygments_lexer": "ipython3",
   "nbconvert_exporter": "python",
   "file_extension": ".py"
  },
  "kernelspec": {
   "name": "python3",
   "display_name": "Python 3.9.4 64-bit ('pytorch': conda)"
  },
  "interpreter": {
   "hash": "3efdbfa231e238790044067e0ee7096fb542fcb4c99101a76533e640110a3d90"
  }
 },
 "nbformat": 4,
 "nbformat_minor": 2
}