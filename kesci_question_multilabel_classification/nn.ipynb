{
 "metadata": {
  "language_info": {
   "codemirror_mode": {
    "name": "ipython",
    "version": 3
   },
   "file_extension": ".py",
   "mimetype": "text/x-python",
   "name": "python",
   "nbconvert_exporter": "python",
   "pygments_lexer": "ipython3",
   "version": "3.6.9-final"
  },
  "orig_nbformat": 2,
  "kernelspec": {
   "name": "python_defaultSpec_1599974669206",
   "display_name": "Python 3.6.9 64-bit"
  }
 },
 "nbformat": 4,
 "nbformat_minor": 2,
 "cells": [
  {
   "cell_type": "code",
   "execution_count": 118,
   "metadata": {
    "tags": []
   },
   "outputs": [
    {
     "output_type": "execute_result",
     "data": {
      "text/plain": "<module 'corpus_process' from '/home/ginger/Projects/Contest/kesci_question_multilabel_classification/corpus_process.py'>"
     },
     "metadata": {},
     "execution_count": 118
    }
   ],
   "source": [
    "from models import nerualnetwork\n",
    "from utils import fold_split\n",
    "from nlp_tools import vec_tool\n",
    "import corpus_process\n",
    "import imp\n",
    "imp.reload(nerualnetwork)\n",
    "imp.reload(fold_split)\n",
    "imp.reload(vec_tool)\n",
    "imp.reload(corpus_process)"
   ]
  },
  {
   "cell_type": "code",
   "execution_count": 119,
   "metadata": {},
   "outputs": [],
   "source": [
    "import pandas as pd\n",
    "data_df = pd.read_csv(\"./data/train.csv\")"
   ]
  },
  {
   "cell_type": "code",
   "execution_count": 120,
   "metadata": {},
   "outputs": [],
   "source": [
    "slicer = fold_split.ShuffleSlicer()"
   ]
  },
  {
   "cell_type": "code",
   "execution_count": 123,
   "metadata": {},
   "outputs": [
    {
     "output_type": "execute_result",
     "data": {
      "text/plain": "                ID  category_A  category_B  category_C  category_D  \\\n0     QC0000000001           0           1           0           0   \n1     QC0000000002           0           1           0           0   \n2     QC0000000003           0           1           0           0   \n3     QC0000000004           1           0           0           0   \n4     QC0000000005           0           1           0           0   \n...            ...         ...         ...         ...         ...   \n4995  QC1000002996           1           1           0           0   \n4996  QC1000002997           0           1           0           0   \n4997  QC1000002998           1           0           0           1   \n4998  QC1000002999           0           0           0           0   \n4999  QC1000003000           0           1           0           1   \n\n      category_E  category_F  \\\n0              0           0   \n1              0           0   \n2              0           0   \n3              0           0   \n4              0           0   \n...          ...         ...   \n4995           0           0   \n4996           0           0   \n4997           1           0   \n4998           0           1   \n4999           0           0   \n\n                                      Question Sentence  \\\n0     病情描述：病人是典型的“三高”，想吃拜阿司匹林做为预防用药，但是出现过敏症状。曾经治疗情况和...   \n1     病情描述：我父亲78岁,小脑梗塞，表现左眼双视，经住院输液治疗现在恢复一月余，现在看人不重影...   \n2     病情描述：医生您好！我想问一下，我妈脑梗塞今天住院十一天了，情况好转，可以下床活动和清楚表达...   \n3                                      停药反跳的血压是身体真实状况吗?   \n4     病情描述：医生：银杏叶片生产厂很多，价格差别很大，应怎样选择？曾经治疗情况和效果：头部紧束感...   \n...                                                 ...   \n4995  腰痛 该咋办?女,28岁,经常睡到下夜4-5点就腰痛,起床后不痛,到医院检查b超,没有发现异...   \n4996  请问!右股关节缺血坏死!怎么样治疗比较好~~~!!!我今年48岁,关节疼痛好几年了,由于平常...   \n4997  咨询：钱医生您好，请问这是膝关节炎吗？钱医生：您好！我妈妈（48岁）这几年开始膝关节一直酸，...   \n4998  ??主任医生你好!本人应左膝盖的半月板损伤!前几天去过你们医院看过,您介意开刀.由于我自己这...   \n4999  腰4、5脊间韧带断裂13年多可以恢复吗？我爸爸1993年腰部受损，一直检查不出原因，94年医...   \n\n                                              sent_vecs               label  \n0     [-0.047520906, -2.9146829, 1.071207, 2.746529,...  [0, 1, 0, 0, 0, 0]  \n1     [-0.96132654, -0.58845717, 1.0074149, 2.613374...  [0, 1, 0, 0, 0, 0]  \n2     [-2.4560163, -1.3940351, -0.66598797, -0.07406...  [0, 1, 0, 0, 0, 0]  \n3     [-1.719184946268797, -0.3798600099980831, 1.78...  [1, 0, 0, 0, 0, 0]  \n4     [-2.6439528, 0.615137, -0.64542997, 3.840078, ...  [0, 1, 0, 0, 0, 0]  \n...                                                 ...                 ...  \n4995  [0.046743006, -2.004329, 0.9781951, -1.4679359...  [1, 1, 0, 0, 0, 0]  \n4996  [-2.387054, -9.859084, 4.1558094, -0.9501539, ...  [0, 1, 0, 0, 0, 0]  \n4997  [-4.221548, -1.6948189, -0.96573114, -1.152963...  [1, 0, 0, 1, 1, 0]  \n4998  [-0.84885913, -2.0052278, 0.7965699, -1.499120...  [0, 0, 0, 0, 0, 1]  \n4999  [1.1398649, -3.031447, 0.832882, -2.7746072, 1...  [0, 1, 0, 1, 0, 0]  \n\n[5000 rows x 10 columns]",
      "text/html": "<div>\n<style scoped>\n    .dataframe tbody tr th:only-of-type {\n        vertical-align: middle;\n    }\n\n    .dataframe tbody tr th {\n        vertical-align: top;\n    }\n\n    .dataframe thead th {\n        text-align: right;\n    }\n</style>\n<table border=\"1\" class=\"dataframe\">\n  <thead>\n    <tr style=\"text-align: right;\">\n      <th></th>\n      <th>ID</th>\n      <th>category_A</th>\n      <th>category_B</th>\n      <th>category_C</th>\n      <th>category_D</th>\n      <th>category_E</th>\n      <th>category_F</th>\n      <th>Question Sentence</th>\n      <th>sent_vecs</th>\n      <th>label</th>\n    </tr>\n  </thead>\n  <tbody>\n    <tr>\n      <th>0</th>\n      <td>QC0000000001</td>\n      <td>0</td>\n      <td>1</td>\n      <td>0</td>\n      <td>0</td>\n      <td>0</td>\n      <td>0</td>\n      <td>病情描述：病人是典型的“三高”，想吃拜阿司匹林做为预防用药，但是出现过敏症状。曾经治疗情况和...</td>\n      <td>[-0.047520906, -2.9146829, 1.071207, 2.746529,...</td>\n      <td>[0, 1, 0, 0, 0, 0]</td>\n    </tr>\n    <tr>\n      <th>1</th>\n      <td>QC0000000002</td>\n      <td>0</td>\n      <td>1</td>\n      <td>0</td>\n      <td>0</td>\n      <td>0</td>\n      <td>0</td>\n      <td>病情描述：我父亲78岁,小脑梗塞，表现左眼双视，经住院输液治疗现在恢复一月余，现在看人不重影...</td>\n      <td>[-0.96132654, -0.58845717, 1.0074149, 2.613374...</td>\n      <td>[0, 1, 0, 0, 0, 0]</td>\n    </tr>\n    <tr>\n      <th>2</th>\n      <td>QC0000000003</td>\n      <td>0</td>\n      <td>1</td>\n      <td>0</td>\n      <td>0</td>\n      <td>0</td>\n      <td>0</td>\n      <td>病情描述：医生您好！我想问一下，我妈脑梗塞今天住院十一天了，情况好转，可以下床活动和清楚表达...</td>\n      <td>[-2.4560163, -1.3940351, -0.66598797, -0.07406...</td>\n      <td>[0, 1, 0, 0, 0, 0]</td>\n    </tr>\n    <tr>\n      <th>3</th>\n      <td>QC0000000004</td>\n      <td>1</td>\n      <td>0</td>\n      <td>0</td>\n      <td>0</td>\n      <td>0</td>\n      <td>0</td>\n      <td>停药反跳的血压是身体真实状况吗?</td>\n      <td>[-1.719184946268797, -0.3798600099980831, 1.78...</td>\n      <td>[1, 0, 0, 0, 0, 0]</td>\n    </tr>\n    <tr>\n      <th>4</th>\n      <td>QC0000000005</td>\n      <td>0</td>\n      <td>1</td>\n      <td>0</td>\n      <td>0</td>\n      <td>0</td>\n      <td>0</td>\n      <td>病情描述：医生：银杏叶片生产厂很多，价格差别很大，应怎样选择？曾经治疗情况和效果：头部紧束感...</td>\n      <td>[-2.6439528, 0.615137, -0.64542997, 3.840078, ...</td>\n      <td>[0, 1, 0, 0, 0, 0]</td>\n    </tr>\n    <tr>\n      <th>...</th>\n      <td>...</td>\n      <td>...</td>\n      <td>...</td>\n      <td>...</td>\n      <td>...</td>\n      <td>...</td>\n      <td>...</td>\n      <td>...</td>\n      <td>...</td>\n      <td>...</td>\n    </tr>\n    <tr>\n      <th>4995</th>\n      <td>QC1000002996</td>\n      <td>1</td>\n      <td>1</td>\n      <td>0</td>\n      <td>0</td>\n      <td>0</td>\n      <td>0</td>\n      <td>腰痛 该咋办?女,28岁,经常睡到下夜4-5点就腰痛,起床后不痛,到医院检查b超,没有发现异...</td>\n      <td>[0.046743006, -2.004329, 0.9781951, -1.4679359...</td>\n      <td>[1, 1, 0, 0, 0, 0]</td>\n    </tr>\n    <tr>\n      <th>4996</th>\n      <td>QC1000002997</td>\n      <td>0</td>\n      <td>1</td>\n      <td>0</td>\n      <td>0</td>\n      <td>0</td>\n      <td>0</td>\n      <td>请问!右股关节缺血坏死!怎么样治疗比较好~~~!!!我今年48岁,关节疼痛好几年了,由于平常...</td>\n      <td>[-2.387054, -9.859084, 4.1558094, -0.9501539, ...</td>\n      <td>[0, 1, 0, 0, 0, 0]</td>\n    </tr>\n    <tr>\n      <th>4997</th>\n      <td>QC1000002998</td>\n      <td>1</td>\n      <td>0</td>\n      <td>0</td>\n      <td>1</td>\n      <td>1</td>\n      <td>0</td>\n      <td>咨询：钱医生您好，请问这是膝关节炎吗？钱医生：您好！我妈妈（48岁）这几年开始膝关节一直酸，...</td>\n      <td>[-4.221548, -1.6948189, -0.96573114, -1.152963...</td>\n      <td>[1, 0, 0, 1, 1, 0]</td>\n    </tr>\n    <tr>\n      <th>4998</th>\n      <td>QC1000002999</td>\n      <td>0</td>\n      <td>0</td>\n      <td>0</td>\n      <td>0</td>\n      <td>0</td>\n      <td>1</td>\n      <td>??主任医生你好!本人应左膝盖的半月板损伤!前几天去过你们医院看过,您介意开刀.由于我自己这...</td>\n      <td>[-0.84885913, -2.0052278, 0.7965699, -1.499120...</td>\n      <td>[0, 0, 0, 0, 0, 1]</td>\n    </tr>\n    <tr>\n      <th>4999</th>\n      <td>QC1000003000</td>\n      <td>0</td>\n      <td>1</td>\n      <td>0</td>\n      <td>1</td>\n      <td>0</td>\n      <td>0</td>\n      <td>腰4、5脊间韧带断裂13年多可以恢复吗？我爸爸1993年腰部受损，一直检查不出原因，94年医...</td>\n      <td>[1.1398649, -3.031447, 0.832882, -2.7746072, 1...</td>\n      <td>[0, 1, 0, 1, 0, 0]</td>\n    </tr>\n  </tbody>\n</table>\n<p>5000 rows × 10 columns</p>\n</div>"
     },
     "metadata": {},
     "execution_count": 123
    }
   ],
   "source": [
    "data_df = corpus_process.process_corpus_nn(data_df)\n",
    "data_df"
   ]
  },
  {
   "cell_type": "code",
   "execution_count": 124,
   "metadata": {},
   "outputs": [],
   "source": [
    "train_df, test_df = slicer.split(data_df)"
   ]
  },
  {
   "cell_type": "code",
   "execution_count": 125,
   "metadata": {},
   "outputs": [
    {
     "output_type": "execute_result",
     "data": {
      "text/plain": "                ID  category_A  category_B  category_C  category_D  \\\n3336  QC1000001337           0           1           0           0   \n654   QC0000000655           0           0           0           0   \n4130  QC1000002131           0           1           0           0   \n411   QC0000000412           1           0           0           0   \n2238  QC1000000239           1           1           0           0   \n...            ...         ...         ...         ...         ...   \n2334  QC1000000335           0           1           0           0   \n1099  QC0000001100           0           1           0           0   \n1261  QC0000001262           1           0           0           0   \n1652  QC0000001653           0           1           0           0   \n710   QC0000000711           1           1           0           0   \n\n      category_E  category_F  \\\n3336           0           0   \n654            0           0   \n4130           0           0   \n411            0           1   \n2238           0           0   \n...          ...         ...   \n2334           0           0   \n1099           0           0   \n1261           0           0   \n1652           0           0   \n710            0           0   \n\n                                      Question Sentence  \\\n3336         治疗口腔溃疡口腔溃疡太严重  不间断的长  特别疼  不知道怎么办治疗口腔溃疡的办法   \n654   病情描述：中佰康仿生低磁床垫怎么样，高血压、高血脂、颈椎曾经治疗情况和效果：服用高血压、颈复...   \n4130                            四十六天还吐不出来，吃不下饭，特别不舒服怎么办   \n411   病情描述：女45岁1月前单侧耳鸣头闷1天，后头晕恶心，去医院做脑ct正常，血压正常，经医生确...   \n2238        健康咨询描述：体质差，贫血，各项胆红素高，肝功能其他各项正常体检是2010，04，29   \n...                                                 ...   \n2334  健康咨询描述：我女儿快两岁了,得了特发性血小板减少性紫殿,第一次入院输两球四天从8知恢复到2...   \n1099  病情描述：张医生，你好。我是一名脑溢血患者，2012年4月底发病，此后一直服降压药，开始两粒...   \n1261  病情描述：我今年67岁是64岁发现高血压140/100现在服厄贝沙坦片（安博维牌）半粒（一天...   \n1652                                    我地血压怎么办高压95地压65   \n710   病情描述：我45岁请问平常没有高血压血脂有点高去高原3个月才回来血红蛋白190还有血压增高高...   \n\n                                              sent_vecs               label  \n3336  [4.0931168, -0.6312969, 3.9460156, 2.4995818, ...  [0, 1, 0, 0, 0, 0]  \n654   [-0.39704388, -1.0755711, 0.92598987, 4.263505...  [0, 0, 0, 0, 0, 0]  \n4130  [-2.655104985460639, -2.3152000308036804, -0.0...  [0, 1, 0, 0, 0, 0]  \n411   [0.43748993, -0.06341711, 1.4676262, -0.70915,...  [1, 0, 0, 0, 0, 1]  \n2238  [-3.9656632, 0.357534, 1.065095, 5.3123274, 1....  [1, 1, 0, 0, 0, 0]  \n...                                                 ...                 ...  \n2334  [-2.167984, -1.9048841, 0.976143, 3.9140248, 0...  [0, 1, 0, 0, 0, 0]  \n1099  [0.9306741, -2.538453, 1.2242101, -1.5922071, ...  [0, 1, 0, 0, 0, 0]  \n1261  [1.8277577, -5.195833, 1.8990641, -3.6595833, ...  [1, 0, 0, 0, 0, 0]  \n1652  [1.3226160425692797, -0.5701769925653934, 0.99...  [0, 1, 0, 0, 0, 0]  \n710   [1.6497462, -1.4239509, -0.47898597, -0.314297...  [1, 1, 0, 0, 0, 0]  \n\n[4000 rows x 10 columns]",
      "text/html": "<div>\n<style scoped>\n    .dataframe tbody tr th:only-of-type {\n        vertical-align: middle;\n    }\n\n    .dataframe tbody tr th {\n        vertical-align: top;\n    }\n\n    .dataframe thead th {\n        text-align: right;\n    }\n</style>\n<table border=\"1\" class=\"dataframe\">\n  <thead>\n    <tr style=\"text-align: right;\">\n      <th></th>\n      <th>ID</th>\n      <th>category_A</th>\n      <th>category_B</th>\n      <th>category_C</th>\n      <th>category_D</th>\n      <th>category_E</th>\n      <th>category_F</th>\n      <th>Question Sentence</th>\n      <th>sent_vecs</th>\n      <th>label</th>\n    </tr>\n  </thead>\n  <tbody>\n    <tr>\n      <th>3336</th>\n      <td>QC1000001337</td>\n      <td>0</td>\n      <td>1</td>\n      <td>0</td>\n      <td>0</td>\n      <td>0</td>\n      <td>0</td>\n      <td>治疗口腔溃疡口腔溃疡太严重  不间断的长  特别疼  不知道怎么办治疗口腔溃疡的办法</td>\n      <td>[4.0931168, -0.6312969, 3.9460156, 2.4995818, ...</td>\n      <td>[0, 1, 0, 0, 0, 0]</td>\n    </tr>\n    <tr>\n      <th>654</th>\n      <td>QC0000000655</td>\n      <td>0</td>\n      <td>0</td>\n      <td>0</td>\n      <td>0</td>\n      <td>0</td>\n      <td>0</td>\n      <td>病情描述：中佰康仿生低磁床垫怎么样，高血压、高血脂、颈椎曾经治疗情况和效果：服用高血压、颈复...</td>\n      <td>[-0.39704388, -1.0755711, 0.92598987, 4.263505...</td>\n      <td>[0, 0, 0, 0, 0, 0]</td>\n    </tr>\n    <tr>\n      <th>4130</th>\n      <td>QC1000002131</td>\n      <td>0</td>\n      <td>1</td>\n      <td>0</td>\n      <td>0</td>\n      <td>0</td>\n      <td>0</td>\n      <td>四十六天还吐不出来，吃不下饭，特别不舒服怎么办</td>\n      <td>[-2.655104985460639, -2.3152000308036804, -0.0...</td>\n      <td>[0, 1, 0, 0, 0, 0]</td>\n    </tr>\n    <tr>\n      <th>411</th>\n      <td>QC0000000412</td>\n      <td>1</td>\n      <td>0</td>\n      <td>0</td>\n      <td>0</td>\n      <td>0</td>\n      <td>1</td>\n      <td>病情描述：女45岁1月前单侧耳鸣头闷1天，后头晕恶心，去医院做脑ct正常，血压正常，经医生确...</td>\n      <td>[0.43748993, -0.06341711, 1.4676262, -0.70915,...</td>\n      <td>[1, 0, 0, 0, 0, 1]</td>\n    </tr>\n    <tr>\n      <th>2238</th>\n      <td>QC1000000239</td>\n      <td>1</td>\n      <td>1</td>\n      <td>0</td>\n      <td>0</td>\n      <td>0</td>\n      <td>0</td>\n      <td>健康咨询描述：体质差，贫血，各项胆红素高，肝功能其他各项正常体检是2010，04，29</td>\n      <td>[-3.9656632, 0.357534, 1.065095, 5.3123274, 1....</td>\n      <td>[1, 1, 0, 0, 0, 0]</td>\n    </tr>\n    <tr>\n      <th>...</th>\n      <td>...</td>\n      <td>...</td>\n      <td>...</td>\n      <td>...</td>\n      <td>...</td>\n      <td>...</td>\n      <td>...</td>\n      <td>...</td>\n      <td>...</td>\n      <td>...</td>\n    </tr>\n    <tr>\n      <th>2334</th>\n      <td>QC1000000335</td>\n      <td>0</td>\n      <td>1</td>\n      <td>0</td>\n      <td>0</td>\n      <td>0</td>\n      <td>0</td>\n      <td>健康咨询描述：我女儿快两岁了,得了特发性血小板减少性紫殿,第一次入院输两球四天从8知恢复到2...</td>\n      <td>[-2.167984, -1.9048841, 0.976143, 3.9140248, 0...</td>\n      <td>[0, 1, 0, 0, 0, 0]</td>\n    </tr>\n    <tr>\n      <th>1099</th>\n      <td>QC0000001100</td>\n      <td>0</td>\n      <td>1</td>\n      <td>0</td>\n      <td>0</td>\n      <td>0</td>\n      <td>0</td>\n      <td>病情描述：张医生，你好。我是一名脑溢血患者，2012年4月底发病，此后一直服降压药，开始两粒...</td>\n      <td>[0.9306741, -2.538453, 1.2242101, -1.5922071, ...</td>\n      <td>[0, 1, 0, 0, 0, 0]</td>\n    </tr>\n    <tr>\n      <th>1261</th>\n      <td>QC0000001262</td>\n      <td>1</td>\n      <td>0</td>\n      <td>0</td>\n      <td>0</td>\n      <td>0</td>\n      <td>0</td>\n      <td>病情描述：我今年67岁是64岁发现高血压140/100现在服厄贝沙坦片（安博维牌）半粒（一天...</td>\n      <td>[1.8277577, -5.195833, 1.8990641, -3.6595833, ...</td>\n      <td>[1, 0, 0, 0, 0, 0]</td>\n    </tr>\n    <tr>\n      <th>1652</th>\n      <td>QC0000001653</td>\n      <td>0</td>\n      <td>1</td>\n      <td>0</td>\n      <td>0</td>\n      <td>0</td>\n      <td>0</td>\n      <td>我地血压怎么办高压95地压65</td>\n      <td>[1.3226160425692797, -0.5701769925653934, 0.99...</td>\n      <td>[0, 1, 0, 0, 0, 0]</td>\n    </tr>\n    <tr>\n      <th>710</th>\n      <td>QC0000000711</td>\n      <td>1</td>\n      <td>1</td>\n      <td>0</td>\n      <td>0</td>\n      <td>0</td>\n      <td>0</td>\n      <td>病情描述：我45岁请问平常没有高血压血脂有点高去高原3个月才回来血红蛋白190还有血压增高高...</td>\n      <td>[1.6497462, -1.4239509, -0.47898597, -0.314297...</td>\n      <td>[1, 1, 0, 0, 0, 0]</td>\n    </tr>\n  </tbody>\n</table>\n<p>4000 rows × 10 columns</p>\n</div>"
     },
     "metadata": {},
     "execution_count": 125
    }
   ],
   "source": [
    "# data_df[\"sent_vecs\"] = data_df[\"Question Sentence\"].apply(vec_tool.lookup)\n",
    "train_df"
   ]
  },
  {
   "cell_type": "code",
   "execution_count": 126,
   "metadata": {},
   "outputs": [],
   "source": [
    "imp.reload(nerualnetwork)\n",
    "mlm = nerualnetwork.MultiLabelModel()"
   ]
  },
  {
   "cell_type": "code",
   "execution_count": 127,
   "metadata": {
    "tags": []
   },
   "outputs": [
    {
     "output_type": "stream",
     "name": "stdout",
     "text": "create model. feature_dim = 100, label_dim = 6\n"
    }
   ],
   "source": [
    "mlm.INITModel(feature_dim=100,label_dim=6)"
   ]
  },
  {
   "cell_type": "code",
   "execution_count": 128,
   "metadata": {},
   "outputs": [],
   "source": [
    "# import numpy as np\n",
    "# np.array(data_df[\"sent_vecs\"].tolist()).shape"
   ]
  },
  {
   "cell_type": "code",
   "execution_count": 129,
   "metadata": {
    "tags": []
   },
   "outputs": [],
   "source": [
    "mlm.train(trainX=np.array(train_df[\"sent_vecs\"].tolist()),trainY=np.array(train_df[\"label\"].tolist()))"
   ]
  },
  {
   "cell_type": "code",
   "execution_count": 133,
   "metadata": {},
   "outputs": [
    {
     "output_type": "execute_result",
     "data": {
      "text/plain": "[0.0026878804378211497, 0.9998333320617676]"
     },
     "metadata": {},
     "execution_count": 133
    }
   ],
   "source": [
    "# np.array(data_df[\"label\"].tolist())\n",
    "# type(data_df[\"label\"])\n",
    "mlm.test(np.array(train_df[\"sent_vecs\"].tolist()),np.array(train_df[\"label\"].tolist()))"
   ]
  },
  {
   "cell_type": "code",
   "execution_count": 130,
   "metadata": {},
   "outputs": [
    {
     "output_type": "execute_result",
     "data": {
      "text/plain": "[1.179373942375183, 0.8163333311080933]"
     },
     "metadata": {},
     "execution_count": 130
    }
   ],
   "source": [
    "mlm.test(np.array(test_df[\"sent_vecs\"].tolist()),np.array(test_df[\"label\"].tolist()))"
   ]
  },
  {
   "cell_type": "code",
   "execution_count": null,
   "metadata": {},
   "outputs": [],
   "source": []
  },
  {
   "cell_type": "code",
   "execution_count": null,
   "metadata": {},
   "outputs": [],
   "source": [
    "from keras.layers import Input\n",
    "from keras.layers import concatenate, Dense\n",
    "from keras.utils import to_categorical\n",
    "from keras.models import Model\n",
    "\n",
    "x_in = Input(shape=(100,), name='x_in')\n",
    "y_in = Input(shape=(100,), name='y_in')\n",
    "# a layer instance is callable on a tensor, and returns a tensor\n",
    "x = Dense(64, activation='relu')(x_in)  # 64*101\n",
    "y = Dense(64, activation='relu')(y_in)\n",
    "z = concatenate([x, y])\n",
    "\n",
    "x = Dense(1, activation='sigmoid', name='x_out')(z)\n",
    "y = Dense(10, activation='softmax', name='y_out')(z)\n",
    "\n",
    "model = Model(inputs=[x_in, y_in], outputs=[x, y])\n",
    "model.compile(optimizer='rmsprop',\n",
    "              loss={'x_out': 'binary_crossentropy', \n",
    "                    'y_out': 'categorical_crossentropy'},\n",
    "              loss_weights={'x_out': 1., 'y_out': 0.2})"
   ]
  }
 ]
}